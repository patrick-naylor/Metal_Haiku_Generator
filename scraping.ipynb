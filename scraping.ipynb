{
 "cells": [
  {
   "cell_type": "markdown",
   "metadata": {},
   "source": [
    "### Scraping lyric data from metal-archives.com"
   ]
  },
  {
   "cell_type": "code",
   "execution_count": 23,
   "metadata": {},
   "outputs": [],
   "source": [
    "import requests\n",
    "import lxml.html as lh\n",
    "import numpy as np\n",
    "from bs4 import BeautifulSoup\n",
    "import pandas as pd"
   ]
  },
  {
   "cell_type": "code",
   "execution_count": 24,
   "metadata": {},
   "outputs": [],
   "source": [
    "def bands_on_page(url):\n",
    "    headers = { 'User-Agent': 'Mozilla/5.0'\n",
    "    }\n",
    "    response = requests.get(url, headers=headers)\n",
    "    bs = BeautifulSoup(response.text,'lxml')\n",
    "    band_links = []\n",
    "    for link in bs.find_all('a'):\n",
    "        band_url = str(link).split('\\\"')[1]\n",
    "        band_id = band_url.split('/')[-1][:-1]\n",
    "        band_disco = f'https://www.metal-archives.com/band/discography/id/{band_id}/tab/all'\n",
    "        band_links.append(band_disco)\n",
    "    return band_links\n",
    "\n",
    "def get_albums(url):\n",
    "    response = requests.get(url)\n",
    "    bs = BeautifulSoup(response.text, 'lxml')\n",
    "#print(bs)\n",
    "    album_links = []\n",
    "    for a in bs.find_all('a', {'class': ['albumn', 'single']}):\n",
    "        link = str(a).split('\\\"')[3]\n",
    "        album_links.append(link)\n",
    "    return(album_links)\n",
    "\n",
    "def get_lyrics(url):\n",
    "    response = requests.get(url)\n",
    "    bs = BeautifulSoup(response.text, 'lxml')\n",
    "    id_strings = bs.find_all('a', class_='anchor')\n",
    "    ids = []\n",
    "    if(len(id_strings)) == 0:\n",
    "        return ([])\n",
    "    for id in id_strings:\n",
    "        ids.append(str(id).split('\\\"')[3])\n",
    "    lyrics = []\n",
    "    for id in ids:\n",
    "        response = requests.get(f'https://www.metal-archives.com/release/ajax-view-lyrics/id/{id}')\n",
    "        bs = BeautifulSoup(response.text, 'lxml')\n",
    "        lyrics.append(bs)\n",
    "    return lyrics\n",
    "\n",
    "def get_clean_lyrics(lyrics):\n",
    "    test_lyric = str(lyrics[0])\n",
    "    test_lyric = test_lyric.split('<br/>')[3:-2]\n",
    "    lyrics_cleaned = []\n",
    "    for i, line in enumerate(test_lyric):\n",
    "        if  line != '\\n':\n",
    "            lyrics_cleaned.append(line[2:])\n",
    "    return lyrics_cleaned\n"
   ]
  },
  {
   "cell_type": "code",
   "execution_count": 25,
   "metadata": {},
   "outputs": [],
   "source": [
    "band_links = []\n",
    "for i in range(0, 37800, 200):\n",
    "    URL = f'https://www.metal-archives.com/search/ajax-advanced/searching/bands/?bandName=&genre=&country=US&yearCreationFrom=&yearCreationTo=&bandNotes=&status=&themes=&location=&bandLabelName=&sEcho=4&iColumns=3&sColumns=&iDisplayStart={i}&iDisplayLength=37800&mDataProp_0=0&mDataProp_1=1&mDataProp_2=2&_=1692040038976'\n",
    "    band_links = np.concatenate((band_links, bands_on_page(URL)))"
   ]
  },
  {
   "cell_type": "code",
   "execution_count": 26,
   "metadata": {},
   "outputs": [
    {
     "name": "stdout",
     "output_type": "stream",
     "text": [
      "37776\n"
     ]
    }
   ],
   "source": [
    "print(len(band_links))\n",
    "albums = []\n",
    "for count, band in enumerate(band_links):\n",
    "    albums.append(get_albums(band))"
   ]
  },
  {
   "cell_type": "code",
   "execution_count": null,
   "metadata": {},
   "outputs": [],
   "source": [
    "lyrics = []\n",
    "for album in albums[:100]:\n",
    "    if len(album) > 0:\n",
    "        lyrics.append(get_clean_lyrics(get_lyrics(album[0])))"
   ]
  },
  {
   "cell_type": "code",
   "execution_count": null,
   "metadata": {},
   "outputs": [
    {
     "name": "stdout",
     "output_type": "stream",
     "text": [
      "[['Hollow victories we are sold offer no comfort'], ['Would be trust you once stole ', 'I fall ', 'In your world of inconsolable rage ', 'Do you ever hear my voice? ', 'A reason being never to fall ', 'Would be what I fear most call ', 'Off dogs of reason leaving to scorn ', 'Would be worthless and cold ', 'Would you control ', 'Hollow, fear, spectre of warmth', 'I fear your distrust unreason ', 'Would leave me scarred ', 'Seen through all of only to be your ', 'Christ figure follow ', 'Give me one reason to bleed you, ', 'Sit there flesh into stone ', 'Give me one reason to waste it all ', 'would be hard to disclose ', 'I fall ', 'I fear your hollow and bitter ', 'Would rape it whole '], [], [], [], [], [], ['Choking on the snot', 'Taken inside to whatever it owes me', \"I've learned what it means to kill\", 'Defiled by flame', 'Intestines bursting from the torso', '200 ways to lose your life', \"It's by my hand and with a knife\", 'Slowly dripping away in the coffin', 'Carcass exploding, buried beneath me', 'Death will come soon', 'To reek amongst the flesh', 'Dispose of the bones', 'Rid you of your soul', 'The pain begins to grow', 'Sinister reality, the drill to your head', 'I lust for lobotomy', 'I lust for lobotomy', 'Die for me, it will possess the flesh', 'Take me please, to a rotten fog', 'Fear is growing, not quite showing', 'In the morgue right now'], [\"Then I'm pulled aside\", \"Feeling alone because you're not here\", 'Facing the Truth, the fight is near', \"Pushing you away (you know I don't mean it)\", 'Screaming from the pain (please help me, make it stop)', 'Running far away (keep me in your sight)', 'Pushing you away', 'People pushing for the Truth', 'Asking questions, breaking through', 'Tears are forming, stomach knotting', 'Having trouble holding back', \"I hope you're ready for the Truth\", 'I promise', 'It will set you free', \"Pushing you away (you know I don't mean it)\", 'Screaming from the pain (please help me, make it stop)', 'Running far away (keep me in your sight)', 'Pushing you away', \"Now it's over, questions stop\", 'Breathing slowly, your eyes drop', 'To the ground, nothing to say', 'Told you it would be this way', 'Fear from the Truth', 'Of what has been done to me.', 'And yet you still deny', 'I accept and forgive', 'I will not live this way', \"I won't push you away (It's time to move on)\", \"There will be no more pain (I've opened up my eyes)\", \"And I won't run away (if you'll stay by my side)\"], [], []]\n"
     ]
    }
   ],
   "source": [
    "for lyric in lyrics:\n",
    "    if lyric == []:\n",
    "        lyrics.remove(lyric)\n",
    "\n",
    "print(lyrics)"
   ]
  }
 ],
 "metadata": {
  "kernelspec": {
   "display_name": "Python 3.11.4 ('metal')",
   "language": "python",
   "name": "python3"
  },
  "language_info": {
   "codemirror_mode": {
    "name": "ipython",
    "version": 3
   },
   "file_extension": ".py",
   "mimetype": "text/x-python",
   "name": "python",
   "nbconvert_exporter": "python",
   "pygments_lexer": "ipython3",
   "version": "3.11.4"
  },
  "orig_nbformat": 4,
  "vscode": {
   "interpreter": {
    "hash": "910fcaffaf40d22dcdc8d59820c392c4fe82e19b7de84aa8089759bbd26ea45c"
   }
  }
 },
 "nbformat": 4,
 "nbformat_minor": 2
}
