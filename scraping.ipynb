{
 "cells": [
  {
   "cell_type": "markdown",
   "metadata": {},
   "source": [
    "### Scraping lyric data from metal-archives.com"
   ]
  },
  {
   "cell_type": "code",
   "execution_count": null,
   "metadata": {},
   "outputs": [],
   "source": [
    "import requests\n",
    "import lxml.html as lh\n",
    "import numpy as np\n",
    "from bs4 import BeautifulSoup\n",
    "import pandas as pd"
   ]
  },
  {
   "cell_type": "code",
   "execution_count": 68,
   "metadata": {},
   "outputs": [],
   "source": [
    "def bands_on_page(url):\n",
    "    headers = { 'User-Agent': 'Mozilla/5.0'\n",
    "    }\n",
    "    response = requests.get(url, headers=headers)\n",
    "    bs = BeautifulSoup(response.text,'lxml')\n",
    "    band_links = []\n",
    "    for link in bs.find_all('a'):\n",
    "        band_url = str(link).split('\\\"')[1]\n",
    "        band_id = band_url.split('/')[-1][:-1]\n",
    "        band_disco = f'https://www.metal-archives.com/band/discography/id/{band_id}/tab/all'\n",
    "        band_links.append(band_disco)\n",
    "    return band_links\n",
    "\n",
    "def get_albums(url):\n",
    "    response = requests.get(url)\n",
    "    bs = BeautifulSoup(response.text, 'lxml')\n",
    "#print(bs)\n",
    "    print(bs.find_all('a')[0])\n",
    "    album_links = []\n",
    "    for a in bs.find_all('a', {'class': ['albumn', 'single']}):\n",
    "        link = str(a).split('\\\"')[3]\n",
    "        album_links.append(link)\n",
    "    return(album_links)\n",
    "\n",
    "def get_lyrics(url):\n",
    "    response = requests.get(url)\n",
    "    bs = BeautifulSoup(response.text, 'lxml')\n",
    "    id_strings = bs.find_all('a', class_='anchor')\n",
    "    ids = []\n",
    "    if(len(id_strings)) == 0:\n",
    "        return ([])\n",
    "    for id in id_strings:\n",
    "        ids.append(str(id).split('\\\"')[3])\n",
    "    lyrics = []\n",
    "    for id in ids:\n",
    "        response = requests.get(f'https://www.metal-archives.com/release/ajax-view-lyrics/id/{id}')\n",
    "        bs = BeautifulSoup(response.text, 'lxml')\n",
    "        lyrics.append(bs)\n",
    "    return lyrics\n",
    "\n",
    "def get_clean_lyrics(lyrics):\n",
    "    test_lyric = str(lyrics[0])\n",
    "    lyric = lyric.split('<br/>')[3:-2]\n",
    "    lyrics_cleaned = []\n",
    "    for i, line in enumerate(test_lyric):\n",
    "        if  line != '\\n':\n",
    "            lyrics_cleaned.append(line[2:])\n",
    "    return lyrics_cleaned\n",
    "\n",
    "band_links = []\n",
    "for i in range(0, 37800, 200):\n",
    "    URL = f'https://www.metal-archives.com/search/ajax-advanced/searching/bands/?bandName=&genre=&country=US&yearCreationFrom=&yearCreationTo=&bandNotes=&status=&themes=&location=&bandLabelName=&sEcho=4&iColumns=3&sColumns=&iDisplayStart={i}&iDisplayLength=37800&mDataProp_0=0&mDataProp_1=1&mDataProp_2=2&_=1692040038976'\n",
    "    band_links = np.concatenate((band_links, bands_on_page(URL)))"
   ]
  },
  {
   "cell_type": "code",
   "execution_count": 98,
   "metadata": {},
   "outputs": [],
   "source": [
    "def get_albums(url):\n",
    "    response = requests.get(url)\n",
    "    bs = BeautifulSoup(response.text, 'lxml')\n",
    "#print(bs)\n",
    "    print(bs.find_all('a')[0])\n",
    "    album_links = []\n",
    "    for a in bs.find_all('a', {'class': ['albumn', 'single']}):\n",
    "        link = str(a).split('\\\"')[3]\n",
    "        album_links.append(link)\n",
    "    return(album_links)\n"
   ]
  },
  {
   "cell_type": "code",
   "execution_count": 110,
   "metadata": {},
   "outputs": [],
   "source": [
    "def get_lyrics(url):\n",
    "    response = requests.get(url)\n",
    "    bs = BeautifulSoup(response.text, 'lxml')\n",
    "    id_strings = bs.find_all('a', class_='anchor')\n",
    "    ids = []\n",
    "    for id in id_strings:\n",
    "        ids.append(str(id).split('\\\"')[3])\n",
    "    lyrics = []\n",
    "    for id in ids:\n",
    "        response = requests.get(f'https://www.metal-archives.com/release/ajax-view-lyrics/id/{id}')\n",
    "        bs = BeautifulSoup(response.text, 'lxml')\n",
    "        lyrics.append(bs)\n",
    "    return lyrics\n",
    "def get_clean_lyrics(lyrics):\n",
    "    test_lyric = str(lyrics[0])\n",
    "    lyric = lyric.split('<br/>')[3:-2]\n",
    "    lyrics_cleaned = []\n",
    "    for i, line in enumerate(test_lyric):\n",
    "        if  line != '\\n':\n",
    "            lyrics_cleaned.append(line[2:])\n",
    "    return lyrics_cleaned\n",
    "\n",
    "\n"
   ]
  },
  {
   "cell_type": "code",
   "execution_count": 129,
   "metadata": {},
   "outputs": [],
   "source": [
    "test_lyric = str(lyrics[0])\n"
   ]
  },
  {
   "cell_type": "code",
   "execution_count": 148,
   "metadata": {},
   "outputs": [
    {
     "name": "stdout",
     "output_type": "stream",
     "text": [
      "['Awaken now from winter’s sleep', 'Shake the hoar frost from the deep', 'Forsaken now, left to bleed', 'Death arose to marry me', 'Torn from my tomb, darkness to doom', 'Conjured by fire, I’m burning desire', 'The wedding march plays, stars flicker and fade', 'Screaming inside, I am Death’s bride', 'Fallen souls storm Death’s door', 'Besieged and broken, lose the war', 'Bound in chains, close the gate', 'False moon rises, no escape', 'Torn from my tomb, darkness to doom', 'Conjured by fire, I’m burning desire', 'The wedding march plays, stars flicker and fade', 'Screaming inside, I am Death’s bride', 'The curse is upon me', 'The moon stares back blankly', 'No one to free me this day', 'I am taken away', 'I’m taken away', 'Torn from my tomb, darkness to doom', 'Consumed by the fire, no trace of desire', 'The wedding now done, my bondage begun', 'Rotting inside, I am Death’s bride', 'Deep in that fertile ground', 'Serpent of Death unwound', 'Ashes to ashes, dust to dust', 'Unto me your soul entrust', 'No one to free me this day', 'Bound in your shroud', 'Torn from your tomb', 'I’m taken away', 'You are my darkness, I am your doom', 'Deep in that fertile ground', 'Serpent of Death unwound', 'Bound in his crown of thorn', 'In ghostlight and flame reborn', 'I am your darkness, I am your doom', 'I am your darkness, I am your doom', 'Torn from my tomb, darkness to doom', 'Consumed by the fire, no trace of desire', 'The wedding now done, my bondage begun', 'Rotting inside, I am Death’s bride']\n",
      "['\\r\\nAwaken now from winter’s sleep', '\\n', '\\r\\nShake the hoar frost from the deep', '\\n', '\\r\\nForsaken now, left to bleed', '\\n', '\\r\\nDeath arose to marry me', '\\n', '\\r\\nTorn from my tomb, darkness to doom', '\\n', '\\r\\nConjured by fire, I’m burning desire', '\\n', '\\r\\nThe wedding march plays, stars flicker and fade', '\\n', '\\r\\nScreaming inside, I am Death’s bride', '\\n', '\\r\\nFallen souls storm Death’s door', '\\n', '\\r\\nBesieged and broken, lose the war', '\\n', '\\r\\nBound in chains, close the gate', '\\n', '\\r\\nFalse moon rises, no escape', '\\n', '\\r\\nTorn from my tomb, darkness to doom', '\\n', '\\r\\nConjured by fire, I’m burning desire', '\\n', '\\r\\nThe wedding march plays, stars flicker and fade', '\\n', '\\r\\nScreaming inside, I am Death’s bride', '\\n', '\\r\\nThe curse is upon me', '\\n', '\\r\\nThe moon stares back blankly', '\\n', '\\r\\nNo one to free me this day', '\\n', '\\r\\nI am taken away', '\\n', '\\r\\nI’m taken away', '\\n', '\\n', '\\r\\nTorn from my tomb, darkness to doom', '\\n', '\\r\\nConsumed by the fire, no trace of desire', '\\n', '\\r\\nThe wedding now done, my bondage begun', '\\n', '\\r\\nRotting inside, I am Death’s bride', '\\n', '\\n', '\\r\\nDeep in that fertile ground', '\\n', '\\r\\nSerpent of Death unwound', '\\n', '\\r\\nAshes to ashes, dust to dust', '\\n', '\\r\\nUnto me your soul entrust', '\\n', '\\n', '\\r\\nNo one to free me this day', '\\n', '\\r\\nBound in your shroud', '\\n', '\\r\\nTorn from your tomb', '\\n', '\\r\\nI’m taken away', '\\n', '\\r\\nYou are my darkness, I am your doom', '\\n', '\\n', '\\r\\nDeep in that fertile ground', '\\n', '\\r\\nSerpent of Death unwound', '\\n', '\\r\\nBound in his crown of thorn', '\\n', '\\r\\nIn ghostlight and flame reborn', '\\n', '\\r\\nI am your darkness, I am your doom', '\\n', '\\r\\nI am your darkness, I am your doom', '\\n', '\\r\\nTorn from my tomb, darkness to doom', '\\n', '\\r\\nConsumed by the fire, no trace of desire', '\\n', '\\r\\nThe wedding now done, my bondage begun', '\\n', '\\r\\nRotting inside, I am Death’s bride']\n"
     ]
    }
   ],
   "source": [
    "test_lyric = str(lyrics[0])\n",
    "test_lyric = test_lyric.split('<br/>')[3:-2]\n",
    "lyrics_cleaned = []\n",
    "for i, lyric in enumerate(test_lyric):\n",
    "    if lyric != '\\n':\n",
    "        lyrics_cleaned.append(lyric[2:])\n",
    "print(lyrics_cleaned)\n",
    "print(test_lyric)"
   ]
  }
 ],
 "metadata": {
  "kernelspec": {
   "display_name": "Python 3.11.4 ('metal')",
   "language": "python",
   "name": "python3"
  },
  "language_info": {
   "codemirror_mode": {
    "name": "ipython",
    "version": 3
   },
   "file_extension": ".py",
   "mimetype": "text/x-python",
   "name": "python",
   "nbconvert_exporter": "python",
   "pygments_lexer": "ipython3",
   "version": "3.11.4"
  },
  "orig_nbformat": 4,
  "vscode": {
   "interpreter": {
    "hash": "910fcaffaf40d22dcdc8d59820c392c4fe82e19b7de84aa8089759bbd26ea45c"
   }
  }
 },
 "nbformat": 4,
 "nbformat_minor": 2
}
