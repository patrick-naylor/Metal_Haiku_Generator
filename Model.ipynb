{
 "cells": [
  {
   "cell_type": "code",
   "execution_count": null,
   "metadata": {},
   "outputs": [],
   "source": [
    "from tensorflow.keras.layers import Input, SimpleRNN, LSTM, GRU, Conv1D, Embedding, Dense, Bidirectional, Dropout\n",
    "from tensorflow.keras.preprocessing.sequence import pad_sequences\n",
    "from sklearn.feature_extraction.text import CountVectorizer\n",
    "from scipy.spatial.distance import pdist, squareform\n",
    "from tensorflow.keras import Model\n",
    "import matplotlib.pyplot as plt\n",
    "import tensorflow as tf\n",
    "import random as rand\n",
    "import numpy as np\n",
    "import pronouncing\n",
    "import markovify\n",
    "import textstat\n",
    "import math"
   ]
  },
  {
   "cell_type": "code",
   "execution_count": null,
   "metadata": {},
   "outputs": [],
   "source": [
    "lyric_path = '/Users/patricknaylor/Desktop/Metal/Data/lyrics_1.txt'\n",
    "with open(lyric_path, 'r') as file:\n",
    "    song = (file.read())\n",
    "    lyrics = song.replace('\\ufeff', '').split(\"\\n\")\n",
    "\n"
   ]
  },
  {
   "cell_type": "code",
   "execution_count": null,
   "metadata": {},
   "outputs": [],
   "source": [
    "markov_model = markovify.NewlineText(str(\"\\n\".join(lyrics)), well_formed=False, state_size=3)\n",
    "sentence = markov_model.make_sentence(tries=100)\n",
    "print(sentence)"
   ]
  },
  {
   "cell_type": "code",
   "execution_count": null,
   "metadata": {},
   "outputs": [],
   "source": [
    "sequences = lyrics\n",
    "tokenizer = tf.keras.preprocessing.text.Tokenizer(num_words=20000)\n",
    "tokenizer.fit_on_texts(sequences)\n",
    "\n",
    "V = len(tokenizer.word_index)+1\n",
    "seq = pad_sequences(tokenizer.texts_to_sequences(sequences), maxlen=30)\n",
    "tokenizer.word_index.items()"
   ]
  },
  {
   "cell_type": "code",
   "execution_count": null,
   "metadata": {},
   "outputs": [],
   "source": [
    "train_X, train_y = seq[:, :-1], tf.keras.utils.to_categorical(seq[:, -1], num_classes=V)\n",
    "\n",
    "print(train_X.shape, train_y.shape)"
   ]
  },
  {
   "cell_type": "code",
   "execution_count": null,
   "metadata": {},
   "outputs": [],
   "source": [
    "D = 512\n",
    "\n",
    "#Simple RNN\n",
    "T = train_X.shape[1]\n",
    "i = Input(shape=(T,))\n",
    "x = Embedding(V, D)(i)\n",
    "x = Dropout(0.2)(x)\n",
    "x = SimpleRNN(150)(x)\n",
    "x = Dense(V, activation=\"softmax\")(x)\n",
    "rnn_model = Model(i, x)\n",
    "\n",
    "adam = tf.keras.optimizers.Adam(learning_rate=0.001)\n",
    "\n",
    "rnn_model.compile(optimizer=adam, metrics=[\"accuracy\"], loss=\"categorical_crossentropy\")\n",
    "rnn_model.summary()"
   ]
  },
  {
   "cell_type": "code",
   "execution_count": null,
   "metadata": {},
   "outputs": [],
   "source": [
    "from keras.callbacks import ReduceLROnPlateau , EarlyStopping\n",
    "from tensorflow.keras.optimizers import Adam \n",
    "\n",
    "\n",
    "import warnings\n",
    "warnings.filterwarnings('ignore')\n",
    "# Set a learning rate annealer\n",
    "learning_rate_reduction = ReduceLROnPlateau(monitor='val_accuracy', \n",
    "                                            patience=3, \n",
    "                                            verbose=1, \n",
    "                                            factor=0.5, \n",
    "                                            min_lr=0.00001)\n",
    "\n",
    "es = EarlyStopping(monitor=\"loss\", mode=\"min\", verbose=1, patience=20)"
   ]
  },
  {
   "cell_type": "code",
   "execution_count": 8,
   "metadata": {},
   "outputs": [
    {
     "name": "stdout",
     "output_type": "stream",
     "text": [
      "1795/1796 [============================>.] - ETA: 0s - loss: 2.9021 - accuracy: 0.4911WARNING:tensorflow:Learning rate reduction is conditioned on metric `val_accuracy` which is not available. Available metrics are: loss,accuracy,lr\n"
     ]
    },
    {
     "name": "stderr",
     "output_type": "stream",
     "text": [
      "WARNING:tensorflow:Learning rate reduction is conditioned on metric `val_accuracy` which is not available. Available metrics are: loss,accuracy,lr\n"
     ]
    },
    {
     "name": "stdout",
     "output_type": "stream",
     "text": [
      "1796/1796 [==============================] - 73s 41ms/step - loss: 2.9021 - accuracy: 0.4911 - lr: 0.0010\n",
      "Epoch 7/100\n",
      "1795/1796 [============================>.] - ETA: 0s - loss: 2.3511 - accuracy: 0.5783WARNING:tensorflow:Learning rate reduction is conditioned on metric `val_accuracy` which is not available. Available metrics are: loss,accuracy,lr\n"
     ]
    },
    {
     "name": "stderr",
     "output_type": "stream",
     "text": [
      "WARNING:tensorflow:Learning rate reduction is conditioned on metric `val_accuracy` which is not available. Available metrics are: loss,accuracy,lr\n"
     ]
    },
    {
     "name": "stdout",
     "output_type": "stream",
     "text": [
      "1796/1796 [==============================] - 72s 40ms/step - loss: 2.3513 - accuracy: 0.5782 - lr: 0.0010\n",
      "Epoch 8/100\n",
      "1796/1796 [==============================] - ETA: 0s - loss: 1.9581 - accuracy: 0.6412WARNING:tensorflow:Learning rate reduction is conditioned on metric `val_accuracy` which is not available. Available metrics are: loss,accuracy,lr\n"
     ]
    },
    {
     "name": "stderr",
     "output_type": "stream",
     "text": [
      "WARNING:tensorflow:Learning rate reduction is conditioned on metric `val_accuracy` which is not available. Available metrics are: loss,accuracy,lr\n"
     ]
    },
    {
     "name": "stdout",
     "output_type": "stream",
     "text": [
      "1796/1796 [==============================] - 70s 39ms/step - loss: 1.9581 - accuracy: 0.6412 - lr: 0.0010\n",
      "Epoch 9/100\n",
      "1796/1796 [==============================] - ETA: 0s - loss: 1.6892 - accuracy: 0.6827WARNING:tensorflow:Learning rate reduction is conditioned on metric `val_accuracy` which is not available. Available metrics are: loss,accuracy,lr\n"
     ]
    },
    {
     "name": "stderr",
     "output_type": "stream",
     "text": [
      "WARNING:tensorflow:Learning rate reduction is conditioned on metric `val_accuracy` which is not available. Available metrics are: loss,accuracy,lr\n"
     ]
    },
    {
     "name": "stdout",
     "output_type": "stream",
     "text": [
      "1796/1796 [==============================] - 70s 39ms/step - loss: 1.6892 - accuracy: 0.6827 - lr: 0.0010\n",
      "Epoch 10/100\n",
      "1795/1796 [============================>.] - ETA: 0s - loss: 1.4935 - accuracy: 0.7171WARNING:tensorflow:Learning rate reduction is conditioned on metric `val_accuracy` which is not available. Available metrics are: loss,accuracy,lr\n"
     ]
    },
    {
     "name": "stderr",
     "output_type": "stream",
     "text": [
      "WARNING:tensorflow:Learning rate reduction is conditioned on metric `val_accuracy` which is not available. Available metrics are: loss,accuracy,lr\n"
     ]
    },
    {
     "name": "stdout",
     "output_type": "stream",
     "text": [
      "1796/1796 [==============================] - 72s 40ms/step - loss: 1.4936 - accuracy: 0.7171 - lr: 0.0010\n",
      "Epoch 11/100\n",
      "1796/1796 [==============================] - ETA: 0s - loss: 1.3496 - accuracy: 0.7417WARNING:tensorflow:Learning rate reduction is conditioned on metric `val_accuracy` which is not available. Available metrics are: loss,accuracy,lr\n"
     ]
    },
    {
     "name": "stderr",
     "output_type": "stream",
     "text": [
      "WARNING:tensorflow:Learning rate reduction is conditioned on metric `val_accuracy` which is not available. Available metrics are: loss,accuracy,lr\n"
     ]
    },
    {
     "name": "stdout",
     "output_type": "stream",
     "text": [
      "1796/1796 [==============================] - 71s 40ms/step - loss: 1.3496 - accuracy: 0.7417 - lr: 0.0010\n",
      "Epoch 12/100\n",
      "1796/1796 [==============================] - ETA: 0s - loss: 1.2707 - accuracy: 0.7535WARNING:tensorflow:Learning rate reduction is conditioned on metric `val_accuracy` which is not available. Available metrics are: loss,accuracy,lr\n"
     ]
    },
    {
     "name": "stderr",
     "output_type": "stream",
     "text": [
      "WARNING:tensorflow:Learning rate reduction is conditioned on metric `val_accuracy` which is not available. Available metrics are: loss,accuracy,lr\n"
     ]
    },
    {
     "name": "stdout",
     "output_type": "stream",
     "text": [
      "1796/1796 [==============================] - 71s 40ms/step - loss: 1.2707 - accuracy: 0.7535 - lr: 0.0010\n",
      "Epoch 13/100\n",
      "1795/1796 [============================>.] - ETA: 0s - loss: 1.1471 - accuracy: 0.7762WARNING:tensorflow:Learning rate reduction is conditioned on metric `val_accuracy` which is not available. Available metrics are: loss,accuracy,lr\n"
     ]
    },
    {
     "name": "stderr",
     "output_type": "stream",
     "text": [
      "WARNING:tensorflow:Learning rate reduction is conditioned on metric `val_accuracy` which is not available. Available metrics are: loss,accuracy,lr\n"
     ]
    },
    {
     "name": "stdout",
     "output_type": "stream",
     "text": [
      "1796/1796 [==============================] - 74s 41ms/step - loss: 1.1471 - accuracy: 0.7762 - lr: 0.0010\n",
      "Epoch 14/100\n",
      "1796/1796 [==============================] - ETA: 0s - loss: 1.2190 - accuracy: 0.7605WARNING:tensorflow:Learning rate reduction is conditioned on metric `val_accuracy` which is not available. Available metrics are: loss,accuracy,lr\n"
     ]
    },
    {
     "name": "stderr",
     "output_type": "stream",
     "text": [
      "WARNING:tensorflow:Learning rate reduction is conditioned on metric `val_accuracy` which is not available. Available metrics are: loss,accuracy,lr\n"
     ]
    },
    {
     "name": "stdout",
     "output_type": "stream",
     "text": [
      "1796/1796 [==============================] - 72s 40ms/step - loss: 1.2190 - accuracy: 0.7605 - lr: 0.0010\n",
      "Epoch 15/100\n",
      "1795/1796 [============================>.] - ETA: 0s - loss: 1.0600 - accuracy: 0.7890WARNING:tensorflow:Learning rate reduction is conditioned on metric `val_accuracy` which is not available. Available metrics are: loss,accuracy,lr\n"
     ]
    },
    {
     "name": "stderr",
     "output_type": "stream",
     "text": [
      "WARNING:tensorflow:Learning rate reduction is conditioned on metric `val_accuracy` which is not available. Available metrics are: loss,accuracy,lr\n"
     ]
    },
    {
     "name": "stdout",
     "output_type": "stream",
     "text": [
      "1796/1796 [==============================] - 74s 41ms/step - loss: 1.0600 - accuracy: 0.7891 - lr: 0.0010\n",
      "Epoch 16/100\n",
      "1796/1796 [==============================] - ETA: 0s - loss: 1.3756 - accuracy: 0.7200WARNING:tensorflow:Learning rate reduction is conditioned on metric `val_accuracy` which is not available. Available metrics are: loss,accuracy,lr\n"
     ]
    },
    {
     "name": "stderr",
     "output_type": "stream",
     "text": [
      "WARNING:tensorflow:Learning rate reduction is conditioned on metric `val_accuracy` which is not available. Available metrics are: loss,accuracy,lr\n"
     ]
    },
    {
     "name": "stdout",
     "output_type": "stream",
     "text": [
      "1796/1796 [==============================] - 74s 41ms/step - loss: 1.3756 - accuracy: 0.7200 - lr: 0.0010\n",
      "Epoch 17/100\n",
      "1795/1796 [============================>.] - ETA: 0s - loss: 1.0777 - accuracy: 0.7812WARNING:tensorflow:Learning rate reduction is conditioned on metric `val_accuracy` which is not available. Available metrics are: loss,accuracy,lr\n"
     ]
    },
    {
     "name": "stderr",
     "output_type": "stream",
     "text": [
      "WARNING:tensorflow:Learning rate reduction is conditioned on metric `val_accuracy` which is not available. Available metrics are: loss,accuracy,lr\n"
     ]
    },
    {
     "name": "stdout",
     "output_type": "stream",
     "text": [
      "1796/1796 [==============================] - 71s 39ms/step - loss: 1.0777 - accuracy: 0.7812 - lr: 0.0010\n",
      "Epoch 18/100\n",
      "1796/1796 [==============================] - ETA: 0s - loss: 1.0057 - accuracy: 0.7978WARNING:tensorflow:Learning rate reduction is conditioned on metric `val_accuracy` which is not available. Available metrics are: loss,accuracy,lr\n"
     ]
    },
    {
     "name": "stderr",
     "output_type": "stream",
     "text": [
      "WARNING:tensorflow:Learning rate reduction is conditioned on metric `val_accuracy` which is not available. Available metrics are: loss,accuracy,lr\n"
     ]
    },
    {
     "name": "stdout",
     "output_type": "stream",
     "text": [
      "1796/1796 [==============================] - 69s 38ms/step - loss: 1.0057 - accuracy: 0.7978 - lr: 0.0010\n",
      "Epoch 19/100\n",
      "1795/1796 [============================>.] - ETA: 0s - loss: 0.9750 - accuracy: 0.8030WARNING:tensorflow:Learning rate reduction is conditioned on metric `val_accuracy` which is not available. Available metrics are: loss,accuracy,lr\n"
     ]
    },
    {
     "name": "stderr",
     "output_type": "stream",
     "text": [
      "WARNING:tensorflow:Learning rate reduction is conditioned on metric `val_accuracy` which is not available. Available metrics are: loss,accuracy,lr\n"
     ]
    },
    {
     "name": "stdout",
     "output_type": "stream",
     "text": [
      "1796/1796 [==============================] - 70s 39ms/step - loss: 0.9749 - accuracy: 0.8030 - lr: 0.0010\n",
      "Epoch 20/100\n",
      "1796/1796 [==============================] - ETA: 0s - loss: 0.9490 - accuracy: 0.8057WARNING:tensorflow:Learning rate reduction is conditioned on metric `val_accuracy` which is not available. Available metrics are: loss,accuracy,lr\n"
     ]
    },
    {
     "name": "stderr",
     "output_type": "stream",
     "text": [
      "WARNING:tensorflow:Learning rate reduction is conditioned on metric `val_accuracy` which is not available. Available metrics are: loss,accuracy,lr\n"
     ]
    },
    {
     "name": "stdout",
     "output_type": "stream",
     "text": [
      "1796/1796 [==============================] - 70s 39ms/step - loss: 0.9490 - accuracy: 0.8057 - lr: 0.0010\n",
      "Epoch 21/100\n",
      "1796/1796 [==============================] - ETA: 0s - loss: 0.9332 - accuracy: 0.8096WARNING:tensorflow:Learning rate reduction is conditioned on metric `val_accuracy` which is not available. Available metrics are: loss,accuracy,lr\n"
     ]
    },
    {
     "name": "stderr",
     "output_type": "stream",
     "text": [
      "WARNING:tensorflow:Learning rate reduction is conditioned on metric `val_accuracy` which is not available. Available metrics are: loss,accuracy,lr\n"
     ]
    },
    {
     "name": "stdout",
     "output_type": "stream",
     "text": [
      "1796/1796 [==============================] - 70s 39ms/step - loss: 0.9332 - accuracy: 0.8096 - lr: 0.0010\n",
      "Epoch 22/100\n",
      "1795/1796 [============================>.] - ETA: 0s - loss: 0.9062 - accuracy: 0.8154WARNING:tensorflow:Learning rate reduction is conditioned on metric `val_accuracy` which is not available. Available metrics are: loss,accuracy,lr\n"
     ]
    },
    {
     "name": "stderr",
     "output_type": "stream",
     "text": [
      "WARNING:tensorflow:Learning rate reduction is conditioned on metric `val_accuracy` which is not available. Available metrics are: loss,accuracy,lr\n"
     ]
    },
    {
     "name": "stdout",
     "output_type": "stream",
     "text": [
      "1796/1796 [==============================] - 70s 39ms/step - loss: 0.9062 - accuracy: 0.8154 - lr: 0.0010\n",
      "Epoch 23/100\n",
      "1795/1796 [============================>.] - ETA: 0s - loss: 1.0516 - accuracy: 0.7846WARNING:tensorflow:Learning rate reduction is conditioned on metric `val_accuracy` which is not available. Available metrics are: loss,accuracy,lr\n"
     ]
    },
    {
     "name": "stderr",
     "output_type": "stream",
     "text": [
      "WARNING:tensorflow:Learning rate reduction is conditioned on metric `val_accuracy` which is not available. Available metrics are: loss,accuracy,lr\n"
     ]
    },
    {
     "name": "stdout",
     "output_type": "stream",
     "text": [
      "1796/1796 [==============================] - 71s 39ms/step - loss: 1.0516 - accuracy: 0.7846 - lr: 0.0010\n",
      "Epoch 24/100\n",
      "1795/1796 [============================>.] - ETA: 0s - loss: 1.0112 - accuracy: 0.7901WARNING:tensorflow:Learning rate reduction is conditioned on metric `val_accuracy` which is not available. Available metrics are: loss,accuracy,lr\n"
     ]
    },
    {
     "name": "stderr",
     "output_type": "stream",
     "text": [
      "WARNING:tensorflow:Learning rate reduction is conditioned on metric `val_accuracy` which is not available. Available metrics are: loss,accuracy,lr\n"
     ]
    },
    {
     "name": "stdout",
     "output_type": "stream",
     "text": [
      "1796/1796 [==============================] - 71s 40ms/step - loss: 1.0111 - accuracy: 0.7902 - lr: 0.0010\n",
      "Epoch 25/100\n",
      "1796/1796 [==============================] - ETA: 0s - loss: 0.8609 - accuracy: 0.8240WARNING:tensorflow:Learning rate reduction is conditioned on metric `val_accuracy` which is not available. Available metrics are: loss,accuracy,lr\n"
     ]
    },
    {
     "name": "stderr",
     "output_type": "stream",
     "text": [
      "WARNING:tensorflow:Learning rate reduction is conditioned on metric `val_accuracy` which is not available. Available metrics are: loss,accuracy,lr\n"
     ]
    },
    {
     "name": "stdout",
     "output_type": "stream",
     "text": [
      "1796/1796 [==============================] - 73s 40ms/step - loss: 0.8609 - accuracy: 0.8240 - lr: 0.0010\n",
      "Epoch 26/100\n",
      "1795/1796 [============================>.] - ETA: 0s - loss: 0.8543 - accuracy: 0.8262WARNING:tensorflow:Learning rate reduction is conditioned on metric `val_accuracy` which is not available. Available metrics are: loss,accuracy,lr\n"
     ]
    },
    {
     "name": "stderr",
     "output_type": "stream",
     "text": [
      "WARNING:tensorflow:Learning rate reduction is conditioned on metric `val_accuracy` which is not available. Available metrics are: loss,accuracy,lr\n"
     ]
    },
    {
     "name": "stdout",
     "output_type": "stream",
     "text": [
      "1796/1796 [==============================] - 74s 41ms/step - loss: 0.8542 - accuracy: 0.8262 - lr: 0.0010\n",
      "Epoch 27/100\n",
      "1795/1796 [============================>.] - ETA: 0s - loss: 0.8599 - accuracy: 0.8226WARNING:tensorflow:Learning rate reduction is conditioned on metric `val_accuracy` which is not available. Available metrics are: loss,accuracy,lr\n"
     ]
    },
    {
     "name": "stderr",
     "output_type": "stream",
     "text": [
      "WARNING:tensorflow:Learning rate reduction is conditioned on metric `val_accuracy` which is not available. Available metrics are: loss,accuracy,lr\n"
     ]
    },
    {
     "name": "stdout",
     "output_type": "stream",
     "text": [
      "1796/1796 [==============================] - 74s 41ms/step - loss: 0.8599 - accuracy: 0.8225 - lr: 0.0010\n",
      "Epoch 28/100\n",
      "1795/1796 [============================>.] - ETA: 0s - loss: 0.8393 - accuracy: 0.8273WARNING:tensorflow:Learning rate reduction is conditioned on metric `val_accuracy` which is not available. Available metrics are: loss,accuracy,lr\n"
     ]
    },
    {
     "name": "stderr",
     "output_type": "stream",
     "text": [
      "WARNING:tensorflow:Learning rate reduction is conditioned on metric `val_accuracy` which is not available. Available metrics are: loss,accuracy,lr\n"
     ]
    },
    {
     "name": "stdout",
     "output_type": "stream",
     "text": [
      "1796/1796 [==============================] - 73s 41ms/step - loss: 0.8394 - accuracy: 0.8273 - lr: 0.0010\n",
      "Epoch 29/100\n",
      "1795/1796 [============================>.] - ETA: 0s - loss: 0.8378 - accuracy: 0.8266WARNING:tensorflow:Learning rate reduction is conditioned on metric `val_accuracy` which is not available. Available metrics are: loss,accuracy,lr\n"
     ]
    },
    {
     "name": "stderr",
     "output_type": "stream",
     "text": [
      "WARNING:tensorflow:Learning rate reduction is conditioned on metric `val_accuracy` which is not available. Available metrics are: loss,accuracy,lr\n"
     ]
    },
    {
     "name": "stdout",
     "output_type": "stream",
     "text": [
      "1796/1796 [==============================] - 74s 41ms/step - loss: 0.8378 - accuracy: 0.8266 - lr: 0.0010\n",
      "Epoch 30/100\n",
      "1796/1796 [==============================] - ETA: 0s - loss: 0.8272 - accuracy: 0.8289WARNING:tensorflow:Learning rate reduction is conditioned on metric `val_accuracy` which is not available. Available metrics are: loss,accuracy,lr\n"
     ]
    },
    {
     "name": "stderr",
     "output_type": "stream",
     "text": [
      "WARNING:tensorflow:Learning rate reduction is conditioned on metric `val_accuracy` which is not available. Available metrics are: loss,accuracy,lr\n"
     ]
    },
    {
     "name": "stdout",
     "output_type": "stream",
     "text": [
      "1796/1796 [==============================] - 75s 42ms/step - loss: 0.8272 - accuracy: 0.8289 - lr: 0.0010\n",
      "Epoch 31/100\n",
      "1795/1796 [============================>.] - ETA: 0s - loss: 0.8255 - accuracy: 0.8285WARNING:tensorflow:Learning rate reduction is conditioned on metric `val_accuracy` which is not available. Available metrics are: loss,accuracy,lr\n"
     ]
    },
    {
     "name": "stderr",
     "output_type": "stream",
     "text": [
      "WARNING:tensorflow:Learning rate reduction is conditioned on metric `val_accuracy` which is not available. Available metrics are: loss,accuracy,lr\n"
     ]
    },
    {
     "name": "stdout",
     "output_type": "stream",
     "text": [
      "1796/1796 [==============================] - 71s 39ms/step - loss: 0.8255 - accuracy: 0.8285 - lr: 0.0010\n",
      "Epoch 32/100\n",
      "1795/1796 [============================>.] - ETA: 0s - loss: 0.8607 - accuracy: 0.8218WARNING:tensorflow:Learning rate reduction is conditioned on metric `val_accuracy` which is not available. Available metrics are: loss,accuracy,lr\n"
     ]
    },
    {
     "name": "stderr",
     "output_type": "stream",
     "text": [
      "WARNING:tensorflow:Learning rate reduction is conditioned on metric `val_accuracy` which is not available. Available metrics are: loss,accuracy,lr\n"
     ]
    },
    {
     "name": "stdout",
     "output_type": "stream",
     "text": [
      "1796/1796 [==============================] - 71s 39ms/step - loss: 0.8607 - accuracy: 0.8218 - lr: 0.0010\n",
      "Epoch 33/100\n",
      "1795/1796 [============================>.] - ETA: 0s - loss: 1.0993 - accuracy: 0.7614WARNING:tensorflow:Learning rate reduction is conditioned on metric `val_accuracy` which is not available. Available metrics are: loss,accuracy,lr\n"
     ]
    },
    {
     "name": "stderr",
     "output_type": "stream",
     "text": [
      "WARNING:tensorflow:Learning rate reduction is conditioned on metric `val_accuracy` which is not available. Available metrics are: loss,accuracy,lr\n"
     ]
    },
    {
     "name": "stdout",
     "output_type": "stream",
     "text": [
      "1796/1796 [==============================] - 72s 40ms/step - loss: 1.0992 - accuracy: 0.7614 - lr: 0.0010\n",
      "Epoch 34/100\n",
      "1795/1796 [============================>.] - ETA: 0s - loss: 0.9466 - accuracy: 0.7960WARNING:tensorflow:Learning rate reduction is conditioned on metric `val_accuracy` which is not available. Available metrics are: loss,accuracy,lr\n"
     ]
    },
    {
     "name": "stderr",
     "output_type": "stream",
     "text": [
      "WARNING:tensorflow:Learning rate reduction is conditioned on metric `val_accuracy` which is not available. Available metrics are: loss,accuracy,lr\n"
     ]
    },
    {
     "name": "stdout",
     "output_type": "stream",
     "text": [
      "1796/1796 [==============================] - 71s 40ms/step - loss: 0.9466 - accuracy: 0.7960 - lr: 0.0010\n",
      "Epoch 35/100\n",
      "1795/1796 [============================>.] - ETA: 0s - loss: 0.9165 - accuracy: 0.8027WARNING:tensorflow:Learning rate reduction is conditioned on metric `val_accuracy` which is not available. Available metrics are: loss,accuracy,lr\n"
     ]
    },
    {
     "name": "stderr",
     "output_type": "stream",
     "text": [
      "WARNING:tensorflow:Learning rate reduction is conditioned on metric `val_accuracy` which is not available. Available metrics are: loss,accuracy,lr\n"
     ]
    },
    {
     "name": "stdout",
     "output_type": "stream",
     "text": [
      "1796/1796 [==============================] - 71s 40ms/step - loss: 0.9164 - accuracy: 0.8027 - lr: 0.0010\n",
      "Epoch 36/100\n",
      "1795/1796 [============================>.] - ETA: 0s - loss: 0.8928 - accuracy: 0.8077WARNING:tensorflow:Learning rate reduction is conditioned on metric `val_accuracy` which is not available. Available metrics are: loss,accuracy,lr\n"
     ]
    },
    {
     "name": "stderr",
     "output_type": "stream",
     "text": [
      "WARNING:tensorflow:Learning rate reduction is conditioned on metric `val_accuracy` which is not available. Available metrics are: loss,accuracy,lr\n"
     ]
    },
    {
     "name": "stdout",
     "output_type": "stream",
     "text": [
      "1796/1796 [==============================] - 71s 39ms/step - loss: 0.8927 - accuracy: 0.8077 - lr: 0.0010\n",
      "Epoch 37/100\n",
      "1795/1796 [============================>.] - ETA: 0s - loss: 0.8776 - accuracy: 0.8116WARNING:tensorflow:Learning rate reduction is conditioned on metric `val_accuracy` which is not available. Available metrics are: loss,accuracy,lr\n"
     ]
    },
    {
     "name": "stderr",
     "output_type": "stream",
     "text": [
      "WARNING:tensorflow:Learning rate reduction is conditioned on metric `val_accuracy` which is not available. Available metrics are: loss,accuracy,lr\n"
     ]
    },
    {
     "name": "stdout",
     "output_type": "stream",
     "text": [
      "1796/1796 [==============================] - 71s 39ms/step - loss: 0.8776 - accuracy: 0.8116 - lr: 0.0010\n",
      "Epoch 38/100\n",
      "1796/1796 [==============================] - ETA: 0s - loss: 0.8674 - accuracy: 0.8153WARNING:tensorflow:Learning rate reduction is conditioned on metric `val_accuracy` which is not available. Available metrics are: loss,accuracy,lr\n"
     ]
    },
    {
     "name": "stderr",
     "output_type": "stream",
     "text": [
      "WARNING:tensorflow:Learning rate reduction is conditioned on metric `val_accuracy` which is not available. Available metrics are: loss,accuracy,lr\n"
     ]
    },
    {
     "name": "stdout",
     "output_type": "stream",
     "text": [
      "1796/1796 [==============================] - 72s 40ms/step - loss: 0.8674 - accuracy: 0.8153 - lr: 0.0010\n",
      "Epoch 39/100\n",
      "1795/1796 [============================>.] - ETA: 0s - loss: 0.8542 - accuracy: 0.8170WARNING:tensorflow:Learning rate reduction is conditioned on metric `val_accuracy` which is not available. Available metrics are: loss,accuracy,lr\n"
     ]
    },
    {
     "name": "stderr",
     "output_type": "stream",
     "text": [
      "WARNING:tensorflow:Learning rate reduction is conditioned on metric `val_accuracy` which is not available. Available metrics are: loss,accuracy,lr\n"
     ]
    },
    {
     "name": "stdout",
     "output_type": "stream",
     "text": [
      "1796/1796 [==============================] - 74s 41ms/step - loss: 0.8543 - accuracy: 0.8170 - lr: 0.0010\n",
      "Epoch 40/100\n",
      "1796/1796 [==============================] - ETA: 0s - loss: 0.8449 - accuracy: 0.8203WARNING:tensorflow:Learning rate reduction is conditioned on metric `val_accuracy` which is not available. Available metrics are: loss,accuracy,lr\n"
     ]
    },
    {
     "name": "stderr",
     "output_type": "stream",
     "text": [
      "WARNING:tensorflow:Learning rate reduction is conditioned on metric `val_accuracy` which is not available. Available metrics are: loss,accuracy,lr\n"
     ]
    },
    {
     "name": "stdout",
     "output_type": "stream",
     "text": [
      "1796/1796 [==============================] - 73s 41ms/step - loss: 0.8449 - accuracy: 0.8203 - lr: 0.0010\n",
      "Epoch 41/100\n",
      "1796/1796 [==============================] - ETA: 0s - loss: 0.8376 - accuracy: 0.8205WARNING:tensorflow:Learning rate reduction is conditioned on metric `val_accuracy` which is not available. Available metrics are: loss,accuracy,lr\n"
     ]
    },
    {
     "name": "stderr",
     "output_type": "stream",
     "text": [
      "WARNING:tensorflow:Learning rate reduction is conditioned on metric `val_accuracy` which is not available. Available metrics are: loss,accuracy,lr\n"
     ]
    },
    {
     "name": "stdout",
     "output_type": "stream",
     "text": [
      "1796/1796 [==============================] - 74s 41ms/step - loss: 0.8376 - accuracy: 0.8205 - lr: 0.0010\n",
      "Epoch 42/100\n",
      "1796/1796 [==============================] - ETA: 0s - loss: 0.8237 - accuracy: 0.8257WARNING:tensorflow:Learning rate reduction is conditioned on metric `val_accuracy` which is not available. Available metrics are: loss,accuracy,lr\n"
     ]
    },
    {
     "name": "stderr",
     "output_type": "stream",
     "text": [
      "WARNING:tensorflow:Learning rate reduction is conditioned on metric `val_accuracy` which is not available. Available metrics are: loss,accuracy,lr\n"
     ]
    },
    {
     "name": "stdout",
     "output_type": "stream",
     "text": [
      "1796/1796 [==============================] - 74s 41ms/step - loss: 0.8237 - accuracy: 0.8257 - lr: 0.0010\n",
      "Epoch 43/100\n",
      "1795/1796 [============================>.] - ETA: 0s - loss: 0.8210 - accuracy: 0.8255WARNING:tensorflow:Learning rate reduction is conditioned on metric `val_accuracy` which is not available. Available metrics are: loss,accuracy,lr\n"
     ]
    },
    {
     "name": "stderr",
     "output_type": "stream",
     "text": [
      "WARNING:tensorflow:Learning rate reduction is conditioned on metric `val_accuracy` which is not available. Available metrics are: loss,accuracy,lr\n"
     ]
    },
    {
     "name": "stdout",
     "output_type": "stream",
     "text": [
      "1796/1796 [==============================] - 74s 41ms/step - loss: 0.8210 - accuracy: 0.8255 - lr: 0.0010\n",
      "Epoch 44/100\n",
      "1795/1796 [============================>.] - ETA: 0s - loss: 0.8211 - accuracy: 0.8248WARNING:tensorflow:Learning rate reduction is conditioned on metric `val_accuracy` which is not available. Available metrics are: loss,accuracy,lr\n"
     ]
    },
    {
     "name": "stderr",
     "output_type": "stream",
     "text": [
      "WARNING:tensorflow:Learning rate reduction is conditioned on metric `val_accuracy` which is not available. Available metrics are: loss,accuracy,lr\n"
     ]
    },
    {
     "name": "stdout",
     "output_type": "stream",
     "text": [
      "1796/1796 [==============================] - 74s 41ms/step - loss: 0.8210 - accuracy: 0.8248 - lr: 0.0010\n",
      "Epoch 45/100\n",
      "1795/1796 [============================>.] - ETA: 0s - loss: 0.8141 - accuracy: 0.8260WARNING:tensorflow:Learning rate reduction is conditioned on metric `val_accuracy` which is not available. Available metrics are: loss,accuracy,lr\n"
     ]
    },
    {
     "name": "stderr",
     "output_type": "stream",
     "text": [
      "WARNING:tensorflow:Learning rate reduction is conditioned on metric `val_accuracy` which is not available. Available metrics are: loss,accuracy,lr\n"
     ]
    },
    {
     "name": "stdout",
     "output_type": "stream",
     "text": [
      "1796/1796 [==============================] - 74s 41ms/step - loss: 0.8140 - accuracy: 0.8260 - lr: 0.0010\n",
      "Epoch 46/100\n",
      "1795/1796 [============================>.] - ETA: 0s - loss: 0.8148 - accuracy: 0.8264WARNING:tensorflow:Learning rate reduction is conditioned on metric `val_accuracy` which is not available. Available metrics are: loss,accuracy,lr\n"
     ]
    },
    {
     "name": "stderr",
     "output_type": "stream",
     "text": [
      "WARNING:tensorflow:Learning rate reduction is conditioned on metric `val_accuracy` which is not available. Available metrics are: loss,accuracy,lr\n"
     ]
    },
    {
     "name": "stdout",
     "output_type": "stream",
     "text": [
      "1796/1796 [==============================] - 74s 41ms/step - loss: 0.8147 - accuracy: 0.8264 - lr: 0.0010\n",
      "Epoch 47/100\n",
      "1795/1796 [============================>.] - ETA: 0s - loss: 0.8093 - accuracy: 0.8276WARNING:tensorflow:Learning rate reduction is conditioned on metric `val_accuracy` which is not available. Available metrics are: loss,accuracy,lr\n"
     ]
    },
    {
     "name": "stderr",
     "output_type": "stream",
     "text": [
      "WARNING:tensorflow:Learning rate reduction is conditioned on metric `val_accuracy` which is not available. Available metrics are: loss,accuracy,lr\n"
     ]
    },
    {
     "name": "stdout",
     "output_type": "stream",
     "text": [
      "1796/1796 [==============================] - 75s 41ms/step - loss: 0.8093 - accuracy: 0.8276 - lr: 0.0010\n",
      "Epoch 48/100\n",
      "1795/1796 [============================>.] - ETA: 0s - loss: 0.8120 - accuracy: 0.8261WARNING:tensorflow:Learning rate reduction is conditioned on metric `val_accuracy` which is not available. Available metrics are: loss,accuracy,lr\n"
     ]
    },
    {
     "name": "stderr",
     "output_type": "stream",
     "text": [
      "WARNING:tensorflow:Learning rate reduction is conditioned on metric `val_accuracy` which is not available. Available metrics are: loss,accuracy,lr\n"
     ]
    },
    {
     "name": "stdout",
     "output_type": "stream",
     "text": [
      "1796/1796 [==============================] - 74s 41ms/step - loss: 0.8119 - accuracy: 0.8261 - lr: 0.0010\n",
      "Epoch 49/100\n",
      "1795/1796 [============================>.] - ETA: 0s - loss: 0.8075 - accuracy: 0.8258WARNING:tensorflow:Learning rate reduction is conditioned on metric `val_accuracy` which is not available. Available metrics are: loss,accuracy,lr\n"
     ]
    },
    {
     "name": "stderr",
     "output_type": "stream",
     "text": [
      "WARNING:tensorflow:Learning rate reduction is conditioned on metric `val_accuracy` which is not available. Available metrics are: loss,accuracy,lr\n"
     ]
    },
    {
     "name": "stdout",
     "output_type": "stream",
     "text": [
      "1796/1796 [==============================] - 74s 41ms/step - loss: 0.8075 - accuracy: 0.8258 - lr: 0.0010\n",
      "Epoch 50/100\n",
      "1796/1796 [==============================] - ETA: 0s - loss: 0.8026 - accuracy: 0.8274WARNING:tensorflow:Learning rate reduction is conditioned on metric `val_accuracy` which is not available. Available metrics are: loss,accuracy,lr\n"
     ]
    },
    {
     "name": "stderr",
     "output_type": "stream",
     "text": [
      "WARNING:tensorflow:Learning rate reduction is conditioned on metric `val_accuracy` which is not available. Available metrics are: loss,accuracy,lr\n"
     ]
    },
    {
     "name": "stdout",
     "output_type": "stream",
     "text": [
      "1796/1796 [==============================] - 74s 41ms/step - loss: 0.8026 - accuracy: 0.8274 - lr: 0.0010\n",
      "Epoch 51/100\n",
      "1795/1796 [============================>.] - ETA: 0s - loss: 0.8032 - accuracy: 0.8273WARNING:tensorflow:Learning rate reduction is conditioned on metric `val_accuracy` which is not available. Available metrics are: loss,accuracy,lr\n"
     ]
    },
    {
     "name": "stderr",
     "output_type": "stream",
     "text": [
      "WARNING:tensorflow:Learning rate reduction is conditioned on metric `val_accuracy` which is not available. Available metrics are: loss,accuracy,lr\n"
     ]
    },
    {
     "name": "stdout",
     "output_type": "stream",
     "text": [
      "1796/1796 [==============================] - 74s 41ms/step - loss: 0.8031 - accuracy: 0.8273 - lr: 0.0010\n",
      "Epoch 52/100\n",
      "1795/1796 [============================>.] - ETA: 0s - loss: 0.8075 - accuracy: 0.8256WARNING:tensorflow:Learning rate reduction is conditioned on metric `val_accuracy` which is not available. Available metrics are: loss,accuracy,lr\n"
     ]
    },
    {
     "name": "stderr",
     "output_type": "stream",
     "text": [
      "WARNING:tensorflow:Learning rate reduction is conditioned on metric `val_accuracy` which is not available. Available metrics are: loss,accuracy,lr\n"
     ]
    },
    {
     "name": "stdout",
     "output_type": "stream",
     "text": [
      "1796/1796 [==============================] - 73s 41ms/step - loss: 0.8076 - accuracy: 0.8256 - lr: 0.0010\n",
      "Epoch 53/100\n",
      "1795/1796 [============================>.] - ETA: 0s - loss: 0.8054 - accuracy: 0.8265WARNING:tensorflow:Learning rate reduction is conditioned on metric `val_accuracy` which is not available. Available metrics are: loss,accuracy,lr\n"
     ]
    },
    {
     "name": "stderr",
     "output_type": "stream",
     "text": [
      "WARNING:tensorflow:Learning rate reduction is conditioned on metric `val_accuracy` which is not available. Available metrics are: loss,accuracy,lr\n"
     ]
    },
    {
     "name": "stdout",
     "output_type": "stream",
     "text": [
      "1796/1796 [==============================] - 69s 39ms/step - loss: 0.8054 - accuracy: 0.8265 - lr: 0.0010\n",
      "Epoch 54/100\n",
      "1796/1796 [==============================] - ETA: 0s - loss: 0.8078 - accuracy: 0.8256WARNING:tensorflow:Learning rate reduction is conditioned on metric `val_accuracy` which is not available. Available metrics are: loss,accuracy,lr\n"
     ]
    },
    {
     "name": "stderr",
     "output_type": "stream",
     "text": [
      "WARNING:tensorflow:Learning rate reduction is conditioned on metric `val_accuracy` which is not available. Available metrics are: loss,accuracy,lr\n"
     ]
    },
    {
     "name": "stdout",
     "output_type": "stream",
     "text": [
      "1796/1796 [==============================] - 70s 39ms/step - loss: 0.8078 - accuracy: 0.8256 - lr: 0.0010\n",
      "Epoch 55/100\n",
      "1796/1796 [==============================] - ETA: 0s - loss: 0.8039 - accuracy: 0.8271WARNING:tensorflow:Learning rate reduction is conditioned on metric `val_accuracy` which is not available. Available metrics are: loss,accuracy,lr\n"
     ]
    },
    {
     "name": "stderr",
     "output_type": "stream",
     "text": [
      "WARNING:tensorflow:Learning rate reduction is conditioned on metric `val_accuracy` which is not available. Available metrics are: loss,accuracy,lr\n"
     ]
    },
    {
     "name": "stdout",
     "output_type": "stream",
     "text": [
      "1796/1796 [==============================] - 71s 40ms/step - loss: 0.8039 - accuracy: 0.8271 - lr: 0.0010\n",
      "Epoch 56/100\n",
      "1796/1796 [==============================] - ETA: 0s - loss: 0.8036 - accuracy: 0.8261WARNING:tensorflow:Learning rate reduction is conditioned on metric `val_accuracy` which is not available. Available metrics are: loss,accuracy,lr\n"
     ]
    },
    {
     "name": "stderr",
     "output_type": "stream",
     "text": [
      "WARNING:tensorflow:Learning rate reduction is conditioned on metric `val_accuracy` which is not available. Available metrics are: loss,accuracy,lr\n"
     ]
    },
    {
     "name": "stdout",
     "output_type": "stream",
     "text": [
      "1796/1796 [==============================] - 70s 39ms/step - loss: 0.8036 - accuracy: 0.8261 - lr: 0.0010\n",
      "Epoch 57/100\n",
      "1796/1796 [==============================] - ETA: 0s - loss: 0.7961 - accuracy: 0.8283WARNING:tensorflow:Learning rate reduction is conditioned on metric `val_accuracy` which is not available. Available metrics are: loss,accuracy,lr\n"
     ]
    },
    {
     "name": "stderr",
     "output_type": "stream",
     "text": [
      "WARNING:tensorflow:Learning rate reduction is conditioned on metric `val_accuracy` which is not available. Available metrics are: loss,accuracy,lr\n"
     ]
    },
    {
     "name": "stdout",
     "output_type": "stream",
     "text": [
      "1796/1796 [==============================] - 72s 40ms/step - loss: 0.7961 - accuracy: 0.8283 - lr: 0.0010\n",
      "Epoch 58/100\n",
      "1796/1796 [==============================] - ETA: 0s - loss: 0.8035 - accuracy: 0.8262WARNING:tensorflow:Learning rate reduction is conditioned on metric `val_accuracy` which is not available. Available metrics are: loss,accuracy,lr\n"
     ]
    },
    {
     "name": "stderr",
     "output_type": "stream",
     "text": [
      "WARNING:tensorflow:Learning rate reduction is conditioned on metric `val_accuracy` which is not available. Available metrics are: loss,accuracy,lr\n"
     ]
    },
    {
     "name": "stdout",
     "output_type": "stream",
     "text": [
      "1796/1796 [==============================] - 73s 41ms/step - loss: 0.8035 - accuracy: 0.8262 - lr: 0.0010\n",
      "Epoch 59/100\n",
      "1795/1796 [============================>.] - ETA: 0s - loss: 0.8058 - accuracy: 0.8256WARNING:tensorflow:Learning rate reduction is conditioned on metric `val_accuracy` which is not available. Available metrics are: loss,accuracy,lr\n"
     ]
    },
    {
     "name": "stderr",
     "output_type": "stream",
     "text": [
      "WARNING:tensorflow:Learning rate reduction is conditioned on metric `val_accuracy` which is not available. Available metrics are: loss,accuracy,lr\n"
     ]
    },
    {
     "name": "stdout",
     "output_type": "stream",
     "text": [
      "1796/1796 [==============================] - 68s 38ms/step - loss: 0.8059 - accuracy: 0.8256 - lr: 0.0010\n",
      "Epoch 60/100\n",
      "1796/1796 [==============================] - ETA: 0s - loss: 0.8102 - accuracy: 0.8236WARNING:tensorflow:Learning rate reduction is conditioned on metric `val_accuracy` which is not available. Available metrics are: loss,accuracy,lr\n"
     ]
    },
    {
     "name": "stderr",
     "output_type": "stream",
     "text": [
      "WARNING:tensorflow:Learning rate reduction is conditioned on metric `val_accuracy` which is not available. Available metrics are: loss,accuracy,lr\n"
     ]
    },
    {
     "name": "stdout",
     "output_type": "stream",
     "text": [
      "1796/1796 [==============================] - 70s 39ms/step - loss: 0.8102 - accuracy: 0.8236 - lr: 0.0010\n",
      "Epoch 61/100\n",
      "1795/1796 [============================>.] - ETA: 0s - loss: 0.8123 - accuracy: 0.8220WARNING:tensorflow:Learning rate reduction is conditioned on metric `val_accuracy` which is not available. Available metrics are: loss,accuracy,lr\n"
     ]
    },
    {
     "name": "stderr",
     "output_type": "stream",
     "text": [
      "WARNING:tensorflow:Learning rate reduction is conditioned on metric `val_accuracy` which is not available. Available metrics are: loss,accuracy,lr\n"
     ]
    },
    {
     "name": "stdout",
     "output_type": "stream",
     "text": [
      "1796/1796 [==============================] - 69s 39ms/step - loss: 0.8124 - accuracy: 0.8220 - lr: 0.0010\n",
      "Epoch 62/100\n",
      "1796/1796 [==============================] - ETA: 0s - loss: 0.8066 - accuracy: 0.8261WARNING:tensorflow:Learning rate reduction is conditioned on metric `val_accuracy` which is not available. Available metrics are: loss,accuracy,lr\n"
     ]
    },
    {
     "name": "stderr",
     "output_type": "stream",
     "text": [
      "WARNING:tensorflow:Learning rate reduction is conditioned on metric `val_accuracy` which is not available. Available metrics are: loss,accuracy,lr\n"
     ]
    },
    {
     "name": "stdout",
     "output_type": "stream",
     "text": [
      "1796/1796 [==============================] - 71s 40ms/step - loss: 0.8066 - accuracy: 0.8261 - lr: 0.0010\n",
      "Epoch 63/100\n",
      "1795/1796 [============================>.] - ETA: 0s - loss: 0.8057 - accuracy: 0.8247WARNING:tensorflow:Learning rate reduction is conditioned on metric `val_accuracy` which is not available. Available metrics are: loss,accuracy,lr\n"
     ]
    },
    {
     "name": "stderr",
     "output_type": "stream",
     "text": [
      "WARNING:tensorflow:Learning rate reduction is conditioned on metric `val_accuracy` which is not available. Available metrics are: loss,accuracy,lr\n"
     ]
    },
    {
     "name": "stdout",
     "output_type": "stream",
     "text": [
      "1796/1796 [==============================] - 72s 40ms/step - loss: 0.8056 - accuracy: 0.8247 - lr: 0.0010\n",
      "Epoch 64/100\n",
      "1796/1796 [==============================] - ETA: 0s - loss: 0.8159 - accuracy: 0.8204WARNING:tensorflow:Learning rate reduction is conditioned on metric `val_accuracy` which is not available. Available metrics are: loss,accuracy,lr\n"
     ]
    },
    {
     "name": "stderr",
     "output_type": "stream",
     "text": [
      "WARNING:tensorflow:Learning rate reduction is conditioned on metric `val_accuracy` which is not available. Available metrics are: loss,accuracy,lr\n"
     ]
    },
    {
     "name": "stdout",
     "output_type": "stream",
     "text": [
      "1796/1796 [==============================] - 73s 40ms/step - loss: 0.8159 - accuracy: 0.8204 - lr: 0.0010\n",
      "Epoch 65/100\n",
      "1796/1796 [==============================] - ETA: 0s - loss: 0.8156 - accuracy: 0.8211WARNING:tensorflow:Learning rate reduction is conditioned on metric `val_accuracy` which is not available. Available metrics are: loss,accuracy,lr\n"
     ]
    },
    {
     "name": "stderr",
     "output_type": "stream",
     "text": [
      "WARNING:tensorflow:Learning rate reduction is conditioned on metric `val_accuracy` which is not available. Available metrics are: loss,accuracy,lr\n"
     ]
    },
    {
     "name": "stdout",
     "output_type": "stream",
     "text": [
      "1796/1796 [==============================] - 72s 40ms/step - loss: 0.8156 - accuracy: 0.8211 - lr: 0.0010\n",
      "Epoch 66/100\n",
      "1795/1796 [============================>.] - ETA: 0s - loss: 0.8178 - accuracy: 0.8209WARNING:tensorflow:Learning rate reduction is conditioned on metric `val_accuracy` which is not available. Available metrics are: loss,accuracy,lr\n"
     ]
    },
    {
     "name": "stderr",
     "output_type": "stream",
     "text": [
      "WARNING:tensorflow:Learning rate reduction is conditioned on metric `val_accuracy` which is not available. Available metrics are: loss,accuracy,lr\n"
     ]
    },
    {
     "name": "stdout",
     "output_type": "stream",
     "text": [
      "1796/1796 [==============================] - 72s 40ms/step - loss: 0.8178 - accuracy: 0.8209 - lr: 0.0010\n",
      "Epoch 67/100\n",
      "1796/1796 [==============================] - ETA: 0s - loss: 0.8197 - accuracy: 0.8206WARNING:tensorflow:Learning rate reduction is conditioned on metric `val_accuracy` which is not available. Available metrics are: loss,accuracy,lr\n"
     ]
    },
    {
     "name": "stderr",
     "output_type": "stream",
     "text": [
      "WARNING:tensorflow:Learning rate reduction is conditioned on metric `val_accuracy` which is not available. Available metrics are: loss,accuracy,lr\n"
     ]
    },
    {
     "name": "stdout",
     "output_type": "stream",
     "text": [
      "1796/1796 [==============================] - 77s 43ms/step - loss: 0.8197 - accuracy: 0.8206 - lr: 0.0010\n",
      "Epoch 68/100\n",
      "1795/1796 [============================>.] - ETA: 0s - loss: 0.8248 - accuracy: 0.8191WARNING:tensorflow:Learning rate reduction is conditioned on metric `val_accuracy` which is not available. Available metrics are: loss,accuracy,lr\n"
     ]
    },
    {
     "name": "stderr",
     "output_type": "stream",
     "text": [
      "WARNING:tensorflow:Learning rate reduction is conditioned on metric `val_accuracy` which is not available. Available metrics are: loss,accuracy,lr\n"
     ]
    },
    {
     "name": "stdout",
     "output_type": "stream",
     "text": [
      "1796/1796 [==============================] - 73s 41ms/step - loss: 0.8247 - accuracy: 0.8191 - lr: 0.0010\n",
      "Epoch 69/100\n",
      "1796/1796 [==============================] - ETA: 0s - loss: 0.8314 - accuracy: 0.8179WARNING:tensorflow:Learning rate reduction is conditioned on metric `val_accuracy` which is not available. Available metrics are: loss,accuracy,lr\n"
     ]
    },
    {
     "name": "stderr",
     "output_type": "stream",
     "text": [
      "WARNING:tensorflow:Learning rate reduction is conditioned on metric `val_accuracy` which is not available. Available metrics are: loss,accuracy,lr\n"
     ]
    },
    {
     "name": "stdout",
     "output_type": "stream",
     "text": [
      "1796/1796 [==============================] - 73s 41ms/step - loss: 0.8314 - accuracy: 0.8179 - lr: 0.0010\n",
      "Epoch 70/100\n",
      "1796/1796 [==============================] - ETA: 0s - loss: 0.8333 - accuracy: 0.8151WARNING:tensorflow:Learning rate reduction is conditioned on metric `val_accuracy` which is not available. Available metrics are: loss,accuracy,lr\n"
     ]
    },
    {
     "name": "stderr",
     "output_type": "stream",
     "text": [
      "WARNING:tensorflow:Learning rate reduction is conditioned on metric `val_accuracy` which is not available. Available metrics are: loss,accuracy,lr\n"
     ]
    },
    {
     "name": "stdout",
     "output_type": "stream",
     "text": [
      "1796/1796 [==============================] - 73s 41ms/step - loss: 0.8333 - accuracy: 0.8151 - lr: 0.0010\n",
      "Epoch 71/100\n",
      "1795/1796 [============================>.] - ETA: 0s - loss: 0.8315 - accuracy: 0.8172WARNING:tensorflow:Learning rate reduction is conditioned on metric `val_accuracy` which is not available. Available metrics are: loss,accuracy,lr\n"
     ]
    },
    {
     "name": "stderr",
     "output_type": "stream",
     "text": [
      "WARNING:tensorflow:Learning rate reduction is conditioned on metric `val_accuracy` which is not available. Available metrics are: loss,accuracy,lr\n"
     ]
    },
    {
     "name": "stdout",
     "output_type": "stream",
     "text": [
      "1796/1796 [==============================] - 72s 40ms/step - loss: 0.8314 - accuracy: 0.8172 - lr: 0.0010\n",
      "Epoch 72/100\n",
      "1796/1796 [==============================] - ETA: 0s - loss: 0.8443 - accuracy: 0.8124WARNING:tensorflow:Learning rate reduction is conditioned on metric `val_accuracy` which is not available. Available metrics are: loss,accuracy,lr\n"
     ]
    },
    {
     "name": "stderr",
     "output_type": "stream",
     "text": [
      "WARNING:tensorflow:Learning rate reduction is conditioned on metric `val_accuracy` which is not available. Available metrics are: loss,accuracy,lr\n"
     ]
    },
    {
     "name": "stdout",
     "output_type": "stream",
     "text": [
      "1796/1796 [==============================] - 72s 40ms/step - loss: 0.8443 - accuracy: 0.8124 - lr: 0.0010\n",
      "Epoch 73/100\n",
      "1796/1796 [==============================] - ETA: 0s - loss: 0.8354 - accuracy: 0.8146WARNING:tensorflow:Learning rate reduction is conditioned on metric `val_accuracy` which is not available. Available metrics are: loss,accuracy,lr\n"
     ]
    },
    {
     "name": "stderr",
     "output_type": "stream",
     "text": [
      "WARNING:tensorflow:Learning rate reduction is conditioned on metric `val_accuracy` which is not available. Available metrics are: loss,accuracy,lr\n"
     ]
    },
    {
     "name": "stdout",
     "output_type": "stream",
     "text": [
      "1796/1796 [==============================] - 72s 40ms/step - loss: 0.8354 - accuracy: 0.8146 - lr: 0.0010\n",
      "Epoch 74/100\n",
      "1796/1796 [==============================] - ETA: 0s - loss: 0.8575 - accuracy: 0.8083WARNING:tensorflow:Learning rate reduction is conditioned on metric `val_accuracy` which is not available. Available metrics are: loss,accuracy,lr\n"
     ]
    },
    {
     "name": "stderr",
     "output_type": "stream",
     "text": [
      "WARNING:tensorflow:Learning rate reduction is conditioned on metric `val_accuracy` which is not available. Available metrics are: loss,accuracy,lr\n"
     ]
    },
    {
     "name": "stdout",
     "output_type": "stream",
     "text": [
      "1796/1796 [==============================] - 71s 39ms/step - loss: 0.8575 - accuracy: 0.8083 - lr: 0.0010\n",
      "Epoch 75/100\n",
      "1796/1796 [==============================] - ETA: 0s - loss: 0.8488 - accuracy: 0.8120WARNING:tensorflow:Learning rate reduction is conditioned on metric `val_accuracy` which is not available. Available metrics are: loss,accuracy,lr\n"
     ]
    },
    {
     "name": "stderr",
     "output_type": "stream",
     "text": [
      "WARNING:tensorflow:Learning rate reduction is conditioned on metric `val_accuracy` which is not available. Available metrics are: loss,accuracy,lr\n"
     ]
    },
    {
     "name": "stdout",
     "output_type": "stream",
     "text": [
      "1796/1796 [==============================] - 72s 40ms/step - loss: 0.8488 - accuracy: 0.8120 - lr: 0.0010\n",
      "Epoch 76/100\n",
      "1795/1796 [============================>.] - ETA: 0s - loss: 0.8522 - accuracy: 0.8105WARNING:tensorflow:Learning rate reduction is conditioned on metric `val_accuracy` which is not available. Available metrics are: loss,accuracy,lr\n"
     ]
    },
    {
     "name": "stderr",
     "output_type": "stream",
     "text": [
      "WARNING:tensorflow:Learning rate reduction is conditioned on metric `val_accuracy` which is not available. Available metrics are: loss,accuracy,lr\n"
     ]
    },
    {
     "name": "stdout",
     "output_type": "stream",
     "text": [
      "1796/1796 [==============================] - 1032s 575ms/step - loss: 0.8521 - accuracy: 0.8105 - lr: 0.0010\n",
      "Epoch 77/100\n",
      "1796/1796 [==============================] - ETA: 0s - loss: 0.8495 - accuracy: 0.8123WARNING:tensorflow:Learning rate reduction is conditioned on metric `val_accuracy` which is not available. Available metrics are: loss,accuracy,lr\n"
     ]
    },
    {
     "name": "stderr",
     "output_type": "stream",
     "text": [
      "WARNING:tensorflow:Learning rate reduction is conditioned on metric `val_accuracy` which is not available. Available metrics are: loss,accuracy,lr\n"
     ]
    },
    {
     "name": "stdout",
     "output_type": "stream",
     "text": [
      "1796/1796 [==============================] - 72s 40ms/step - loss: 0.8495 - accuracy: 0.8123 - lr: 0.0010\n",
      "Epoch 77: early stopping\n"
     ]
    }
   ],
   "source": [
    "rnn_r = rnn_model.fit(train_X, train_y, epochs=100,callbacks=[learning_rate_reduction,es])"
   ]
  },
  {
   "cell_type": "code",
   "execution_count": 9,
   "metadata": {},
   "outputs": [],
   "source": [
    "def calc_readability(input_bars):\n",
    "  avg_readability = 0\n",
    "  for bar in input_bars:\n",
    "    avg_readability += textstat.automated_readability_index(bar)\n",
    "  return avg_readability / len(input_bars)"
   ]
  },
  {
   "cell_type": "code",
   "execution_count": 10,
   "metadata": {},
   "outputs": [],
   "source": [
    "def calc_rhyme_density(bars):\n",
    "  total_syllables = 0\n",
    "  rhymed_syllables = 0\n",
    "  for bar in bars:\n",
    "    for word in bar.split():\n",
    "      p = pronouncing.phones_for_word(word)\n",
    "      if len(p) == 0:\n",
    "        break\n",
    "      syllables = pronouncing.syllable_count(p[0])\n",
    "      total_syllables += syllables\n",
    "      has_rhyme = False\n",
    "      for rhyme in pronouncing.rhymes(word):\n",
    "        if has_rhyme:\n",
    "          break\n",
    "        for idx, r_bar in enumerate(bars):\n",
    "          if idx > 4:\n",
    "            break\n",
    "          if rhyme in r_bar:\n",
    "            rhymed_syllables += syllables\n",
    "            has_rhyme = True\n",
    "            break\n",
    "  return rhymed_syllables/total_syllables"
   ]
  },
  {
   "cell_type": "code",
   "execution_count": 11,
   "metadata": {},
   "outputs": [],
   "source": [
    "def generate_bar(seed_phrase, model, length_of_bar):\n",
    "  for i in range(length_of_bar):\n",
    "    seed_tokens = pad_sequences(tokenizer.texts_to_sequences([seed_phrase]), maxlen=29)\n",
    "    output_p = model.predict(seed_tokens)\n",
    "    output_word = np.argmax(output_p, axis=1)[0]-1\n",
    "    seed_phrase += \" \" + str(list(tokenizer.word_index.items())[output_word][0])\n",
    "  return seed_phrase"
   ]
  },
  {
   "cell_type": "code",
   "execution_count": 12,
   "metadata": {},
   "outputs": [],
   "source": [
    "def score_bar(input_bar, artists_bars, artists_avg_readability, artists_avg_rhyme_idx):\n",
    "  gen_readability = textstat.automated_readability_index(input_bar)\n",
    "  gen_rhyme_idx = calc_rhyme_density(input_bar)\n",
    "  comp_bars = compare_bars(input_bar, artists_bars)\n",
    "\n",
    "  # Scores based off readability, rhyme index, and originality. The lower the score the better.\n",
    "  bar_score = (artists_avg_readability - gen_readability) + (artists_avg_rhyme_idx - gen_rhyme_idx) + comp_bars\n",
    "  return bar_score"
   ]
  },
  {
   "cell_type": "code",
   "execution_count": 13,
   "metadata": {},
   "outputs": [],
   "source": [
    "def compare_bars(input_bar, artists_bars):\n",
    "  '''\n",
    "    input_bars are the fire bars our AI generates\n",
    "    artists_bars are the original bars for the artist\n",
    "\n",
    "    The lower the score the better! We want unique bars\n",
    "  '''\n",
    "  # Converts sentences to matrix of token counts\n",
    "  avg_dist = 0\n",
    "  total_counted = 0\n",
    "  for bar in artists_bars:\n",
    "    v = CountVectorizer()\n",
    "    # Vectorize the sentences\n",
    "    word_vector = v.fit_transform([input_bar, bar])\n",
    "    # Compute the cosine distance between the sentence vectors\n",
    "    cos_dist = 1-pdist(word_vector.toarray(), 'cosine')[0]\n",
    "    if not math.isnan(cos_dist):\n",
    "      avg_dist += 1-pdist(word_vector.toarray(), 'cosine')[0]\n",
    "      total_counted += 1\n",
    "  return avg_dist/total_counted"
   ]
  },
  {
   "cell_type": "code",
   "execution_count": 22,
   "metadata": {},
   "outputs": [],
   "source": [
    "def generate_song( model, artists_bars, length_of_bar, length_of_song=20, min_score_threshold=-0.2, max_score_threshold=0.2, tries=5):\n",
    "  artists_avg_readability = calc_readability(artists_bars)\n",
    "  artists_avg_rhyme_idx = calc_rhyme_density(artists_bars)\n",
    "  fire_song = []\n",
    "  cur_tries = 0\n",
    "  candidate_bars = []\n",
    "\n",
    "  while len(fire_song) < length_of_song:\n",
    "    try:\n",
    "        seed_sentence = markov_model.make_sentence(tries=100).split(\" \")\n",
    "        print('Seed Sentence: ', seed_sentence)\n",
    "        seed_sentence = \" \".join(seed_sentence[:1])\n",
    "    except:\n",
    "        pass\n",
    "    cur_tries += 1\n",
    "    bar = generate_bar(seed_sentence, model, rand.randrange(4, length_of_bar))\n",
    "    #print(bar)\n",
    "    bar_score = score_bar(bar, lyrics, artists_avg_readability, artists_avg_rhyme_idx) \n",
    "    candidate_bars.append((bar_score, bar))\n",
    "\n",
    "\n",
    "    if bar_score <= max_score_threshold and bar_score >= min_score_threshold:\n",
    "      fire_song.append(bar)\n",
    "      cur_tries = 0\n",
    "      print(\"Generated Bar: \", len(fire_song))\n",
    "\n",
    "    if cur_tries >= tries:\n",
    "      lowest_score = np.Infinity\n",
    "      best_bar = \"\"\n",
    "      for bar in candidate_bars:\n",
    "        if bar[0] < lowest_score:\n",
    "          best_bar = bar[1]\n",
    "          candidate_bars = []\n",
    "      \n",
    "      fire_song.append(best_bar)\n",
    "      print(\"Generated Bar: \", len(fire_song))\n",
    "      cur_tries = 0\n",
    "      \n",
    "  print(\"Generated song with avg rhyme density: \", calc_rhyme_density(fire_song), \"and avg readability of: \", calc_readability(fire_song))\n",
    "  return fire_song"
   ]
  },
  {
   "cell_type": "code",
   "execution_count": 23,
   "metadata": {},
   "outputs": [
    {
     "name": "stdout",
     "output_type": "stream",
     "text": [
      "test\n",
      "Seed Sentence:  ['We', 'lost', 'sight', 'of', 'the', 'god', 'of', 'gestapos', 'and', 'hate']\n",
      "1/1 [==============================] - 0s 15ms/step\n",
      "1/1 [==============================] - 0s 11ms/step\n",
      "1/1 [==============================] - 0s 11ms/step\n",
      "1/1 [==============================] - 0s 12ms/step\n",
      "1/1 [==============================] - 0s 11ms/step\n",
      "Seed Sentence:  ['Now', 'decrepit', 'parasitic', 'we', 'seek', 'to', 'reform', 'creation']\n",
      "1/1 [==============================] - 0s 10ms/step\n",
      "1/1 [==============================] - 0s 11ms/step\n",
      "1/1 [==============================] - 0s 11ms/step\n",
      "1/1 [==============================] - 0s 12ms/step\n",
      "1/1 [==============================] - 0s 11ms/step\n",
      "Seed Sentence:  ['Ecto-plasma,', 'Ecto-skeletalI', 'smoke', 'it', 'everyday', 'and', 'I', 'smoke', 'it', 'everyday']\n",
      "1/1 [==============================] - 0s 14ms/step\n",
      "1/1 [==============================] - 0s 11ms/step\n",
      "1/1 [==============================] - 0s 11ms/step\n",
      "1/1 [==============================] - 0s 11ms/step\n",
      "1/1 [==============================] - 0s 11ms/step\n",
      "Seed Sentence:  ['Too', 'cruel,', 'that', 'is', 'what', 'you', 'get']\n",
      "1/1 [==============================] - 0s 10ms/step\n",
      "1/1 [==============================] - 0s 11ms/step\n",
      "1/1 [==============================] - 0s 11ms/step\n",
      "1/1 [==============================] - 0s 11ms/step\n",
      "Seed Sentence:  ['You', 'were', 'left', 'to', 'kill']\n",
      "1/1 [==============================] - 0s 10ms/step\n",
      "1/1 [==============================] - 0s 11ms/step\n",
      "1/1 [==============================] - 0s 11ms/step\n",
      "1/1 [==============================] - 0s 11ms/step\n",
      "1/1 [==============================] - 0s 11ms/step\n",
      "Generated Bar:  1\n",
      "Seed Sentence:  ['Eyes', 'fixed', 'on', 'this', 'land', 'of', 'high', 'adventure']\n",
      "1/1 [==============================] - 0s 10ms/step\n",
      "1/1 [==============================] - 0s 11ms/step\n",
      "1/1 [==============================] - 0s 11ms/step\n",
      "1/1 [==============================] - 0s 11ms/step\n",
      "1/1 [==============================] - 0s 11ms/step\n",
      "Seed Sentence:  ['I', 'looked', 'him', 'dead', 'in', 'the', 'grave', 'is', 'better', 'than', 'pain,']\n",
      "1/1 [==============================] - 0s 10ms/step\n",
      "1/1 [==============================] - 0s 11ms/step\n",
      "1/1 [==============================] - 0s 11ms/step\n",
      "1/1 [==============================] - 0s 11ms/step\n",
      "1/1 [==============================] - 0s 11ms/step\n",
      "Seed Sentence:  ['Changing', 'deep', 'within', 'the', 'harlequin']\n",
      "1/1 [==============================] - 0s 10ms/step\n",
      "1/1 [==============================] - 0s 12ms/step\n",
      "1/1 [==============================] - 0s 12ms/step\n",
      "1/1 [==============================] - 0s 14ms/step\n",
      "Seed Sentence:  ['The', 'time', 'has', 'come', 'to', 'see', 'your', 'papers']\n",
      "1/1 [==============================] - 0s 10ms/step\n",
      "1/1 [==============================] - 0s 11ms/step\n",
      "1/1 [==============================] - 0s 11ms/step\n",
      "1/1 [==============================] - 0s 11ms/step\n",
      "Seed Sentence:  ['No', 'more', 'can', 'they', 'keep', 'us', 'uninformed', 'and', 'distracted']\n",
      "1/1 [==============================] - 0s 11ms/step\n",
      "1/1 [==============================] - 0s 11ms/step\n",
      "1/1 [==============================] - 0s 11ms/step\n",
      "1/1 [==============================] - 0s 11ms/step\n",
      "1/1 [==============================] - 0s 11ms/step\n",
      "Generated Bar:  2\n",
      "Seed Sentence:  ['The', 'same', 'is', 'done', 'to', 'my', 'feet', 'to', 'aid', 'her', 'escape']\n",
      "1/1 [==============================] - 0s 10ms/step\n",
      "1/1 [==============================] - 0s 11ms/step\n",
      "1/1 [==============================] - 0s 11ms/step\n",
      "1/1 [==============================] - 0s 12ms/step\n",
      "Seed Sentence:  ['Burning', 'it', 'to', 'the', 'sky']\n",
      "1/1 [==============================] - 0s 11ms/step\n",
      "1/1 [==============================] - 0s 11ms/step\n",
      "1/1 [==============================] - 0s 10ms/step\n",
      "1/1 [==============================] - 0s 14ms/step\n",
      "Seed Sentence:  ['I', 'am', 'stricken', 'by', 'the', 'feeling', 'that', 'comes', 'from', 'the', 'heart']\n",
      "1/1 [==============================] - 0s 10ms/step\n",
      "1/1 [==============================] - 0s 11ms/step\n",
      "1/1 [==============================] - 0s 11ms/step\n",
      "1/1 [==============================] - 0s 12ms/step\n",
      "Seed Sentence:  ['For', 'he', 'killed', 'a', 'holy', 'man', 'to', 'a', 'world', 'that', 'truly', 'should', 'be', 'ours,Trancending', 'practicality']\n",
      "1/1 [==============================] - 0s 10ms/step\n",
      "1/1 [==============================] - 0s 12ms/step\n",
      "1/1 [==============================] - 0s 12ms/step\n",
      "1/1 [==============================] - 0s 11ms/step\n",
      "Seed Sentence:  ['Kick', 'you', 'with', 'the', 'groove']\n",
      "1/1 [==============================] - 0s 10ms/step\n",
      "1/1 [==============================] - 0s 12ms/step\n",
      "1/1 [==============================] - 0s 11ms/step\n",
      "1/1 [==============================] - 0s 11ms/step\n",
      "Generated Bar:  3\n",
      "Seed Sentence:  ['We', 'stand', 'upon', 'the', 'morning', 'star...', 'I', 'will', 'rise', 'to', 'power', 'once', 'more']\n",
      "1/1 [==============================] - 0s 10ms/step\n",
      "1/1 [==============================] - 0s 12ms/step\n",
      "1/1 [==============================] - 0s 11ms/step\n",
      "1/1 [==============================] - 0s 12ms/step\n",
      "1/1 [==============================] - 0s 11ms/step\n",
      "Seed Sentence:  ['I', 'am', 'nothing', 'but', 'the', 'nothing', 'inside']\n",
      "1/1 [==============================] - 0s 11ms/step\n",
      "1/1 [==============================] - 0s 11ms/step\n",
      "1/1 [==============================] - 0s 12ms/step\n",
      "1/1 [==============================] - 0s 11ms/step\n",
      "1/1 [==============================] - 0s 11ms/step\n",
      "Seed Sentence:  ['And', 'life', 'is', 'just', 'a', 'pathetic', 'failure.']\n",
      "1/1 [==============================] - 0s 11ms/step\n",
      "1/1 [==============================] - 0s 12ms/step\n",
      "1/1 [==============================] - 0s 12ms/step\n",
      "1/1 [==============================] - 0s 12ms/step\n",
      "Seed Sentence:  [\"I've\", 'got', 'a', 'way', 'to', 'win', 'a', 'fight']\n",
      "1/1 [==============================] - 0s 10ms/step\n",
      "1/1 [==============================] - 0s 12ms/step\n",
      "1/1 [==============================] - 0s 11ms/step\n",
      "1/1 [==============================] - 0s 11ms/step\n",
      "Seed Sentence:  ['Is', 'this', 'where', 'we', 'want', 'to', 'see', 'you', 'fall']\n",
      "1/1 [==============================] - 0s 10ms/step\n",
      "1/1 [==============================] - 0s 11ms/step\n",
      "1/1 [==============================] - 0s 12ms/step\n",
      "1/1 [==============================] - 0s 12ms/step\n",
      "1/1 [==============================] - 0s 11ms/step\n",
      "Generated Bar:  4\n",
      "Seed Sentence:  ['Don’t', 'you', 'wanna', 'be', 'saved?']\n",
      "1/1 [==============================] - 0s 11ms/step\n",
      "1/1 [==============================] - 0s 11ms/step\n",
      "1/1 [==============================] - 0s 12ms/step\n",
      "1/1 [==============================] - 0s 11ms/step\n",
      "1/1 [==============================] - 0s 11ms/step\n",
      "Seed Sentence:  ['To', 'the', 'fires', 'of', 'corruption']\n",
      "1/1 [==============================] - 0s 12ms/step\n",
      "1/1 [==============================] - 0s 12ms/step\n",
      "1/1 [==============================] - 0s 12ms/step\n",
      "1/1 [==============================] - 0s 12ms/step\n",
      "Seed Sentence:  ['Overcome', 'with', 'fear,', 'you', 'begin', 'to', 'slowly', 'rot']\n",
      "1/1 [==============================] - 0s 10ms/step\n",
      "1/1 [==============================] - 0s 11ms/step\n",
      "1/1 [==============================] - 0s 11ms/step\n",
      "1/1 [==============================] - 0s 12ms/step\n",
      "Seed Sentence:  ['Harsh', 'lands', 'of', 'the', 'evil', 'in', 'the', 'world!']\n",
      "1/1 [==============================] - 0s 10ms/step\n",
      "1/1 [==============================] - 0s 11ms/step\n",
      "1/1 [==============================] - 0s 11ms/step\n",
      "1/1 [==============================] - 0s 11ms/step\n",
      "1/1 [==============================] - 0s 11ms/step\n",
      "Seed Sentence:  ['Drift', 'away', 'from', 'your', 'mind']\n",
      "1/1 [==============================] - 0s 10ms/step\n",
      "1/1 [==============================] - 0s 11ms/step\n",
      "1/1 [==============================] - 0s 11ms/step\n",
      "1/1 [==============================] - 0s 11ms/step\n",
      "1/1 [==============================] - 0s 11ms/step\n",
      "Generated Bar:  5\n",
      "Seed Sentence:  ['Oh', \"don't\", 'you', 'see', 'the', 'walls']\n",
      "1/1 [==============================] - 0s 10ms/step\n",
      "1/1 [==============================] - 0s 11ms/step\n",
      "1/1 [==============================] - 0s 11ms/step\n",
      "1/1 [==============================] - 0s 11ms/step\n",
      "Seed Sentence:  ['And', 'you', 'will', 'never', 'be', 'saved']\n",
      "1/1 [==============================] - 0s 10ms/step\n",
      "1/1 [==============================] - 0s 11ms/step\n",
      "1/1 [==============================] - 0s 12ms/step\n",
      "1/1 [==============================] - 0s 11ms/step\n",
      "1/1 [==============================] - 0s 11ms/step\n",
      "Seed Sentence:  ['It', 'takes', 'the', 'breath', 'out', 'of', 'me', 'as', 'she', 'smiles', 'wickedly.']\n",
      "1/1 [==============================] - 0s 11ms/step\n",
      "1/1 [==============================] - 0s 11ms/step\n",
      "1/1 [==============================] - 0s 11ms/step\n",
      "1/1 [==============================] - 0s 11ms/step\n",
      "1/1 [==============================] - 0s 10ms/step\n",
      "Seed Sentence:  ['You', 'can', 'run', 'for', 'your', 'life', 'in', 'a', 'leap', 'of', 'blind', 'faith']\n",
      "1/1 [==============================] - 0s 10ms/step\n",
      "1/1 [==============================] - 0s 11ms/step\n",
      "1/1 [==============================] - 0s 11ms/step\n",
      "1/1 [==============================] - 0s 11ms/step\n",
      "Seed Sentence:  ['Hollow', 'words', 'with', 'nothing', 'left', 'to', 'address']\n",
      "1/1 [==============================] - 0s 11ms/step\n",
      "1/1 [==============================] - 0s 11ms/step\n",
      "1/1 [==============================] - 0s 11ms/step\n",
      "1/1 [==============================] - 0s 10ms/step\n",
      "1/1 [==============================] - 0s 10ms/step\n",
      "Generated Bar:  6\n",
      "Seed Sentence:  ['These', 'witches', 'are', 'bound', 'to', 'cancered', 'aura']\n",
      "1/1 [==============================] - 0s 10ms/step\n",
      "1/1 [==============================] - 0s 11ms/step\n",
      "1/1 [==============================] - 0s 11ms/step\n",
      "1/1 [==============================] - 0s 11ms/step\n",
      "1/1 [==============================] - 0s 11ms/step\n",
      "Generated Bar:  7\n",
      "Seed Sentence:  ['Leaving', 'me', 'to', 'my', 'knees...']\n",
      "1/1 [==============================] - 0s 10ms/step\n",
      "1/1 [==============================] - 0s 13ms/step\n",
      "1/1 [==============================] - 0s 11ms/step\n",
      "1/1 [==============================] - 0s 12ms/step\n",
      "Seed Sentence:  ['Seems', \"there's\", 'no', 'time', 'to', 'be', 'blue']\n",
      "1/1 [==============================] - 0s 11ms/step\n",
      "1/1 [==============================] - 0s 11ms/step\n",
      "1/1 [==============================] - 0s 11ms/step\n",
      "1/1 [==============================] - 0s 11ms/step\n",
      "1/1 [==============================] - 0s 11ms/step\n",
      "Generated Bar:  8\n",
      "Seed Sentence:  ['Sworn', 'into', 'service', 'with', 'your', 'hand', 'on', 'that', 'deadly', 'bell']\n",
      "1/1 [==============================] - 0s 10ms/step\n",
      "1/1 [==============================] - 0s 11ms/step\n",
      "1/1 [==============================] - 0s 11ms/step\n",
      "1/1 [==============================] - 0s 11ms/step\n",
      "Seed Sentence:  ['Call', 'the', 'ancient,', 'evils', 'of', 'the', 'consequences', 'of', 'our', 'actions']\n",
      "1/1 [==============================] - 0s 10ms/step\n",
      "1/1 [==============================] - 0s 10ms/step\n",
      "1/1 [==============================] - 0s 11ms/step\n",
      "1/1 [==============================] - 0s 11ms/step\n",
      "1/1 [==============================] - 0s 11ms/step\n",
      "Seed Sentence:  ['But', 'nothing', 'ever', 'makes', 'sense', 'and', \"I'm\", 'left', 'with', 'this', 'pain,', 'I', 'feel.']\n",
      "1/1 [==============================] - 0s 10ms/step\n",
      "1/1 [==============================] - 0s 11ms/step\n",
      "1/1 [==============================] - 0s 11ms/step\n",
      "1/1 [==============================] - 0s 11ms/step\n",
      "1/1 [==============================] - 0s 11ms/step\n",
      "Seed Sentence:  ['The', 'kings', 'will', 'hide', 'in', 'the', 'sun', \"'till\", 'you', 'see', 'the', 'water', 'in', 'the', 'wind']\n",
      "1/1 [==============================] - 0s 10ms/step\n",
      "1/1 [==============================] - 0s 11ms/step\n",
      "1/1 [==============================] - 0s 13ms/step\n",
      "1/1 [==============================] - 0s 11ms/step\n",
      "1/1 [==============================] - 0s 11ms/step\n",
      "Seed Sentence:  ['I', 'know', 'that', 'I', 'have', 'designed']\n",
      "1/1 [==============================] - 0s 10ms/step\n",
      "1/1 [==============================] - 0s 11ms/step\n",
      "1/1 [==============================] - 0s 11ms/step\n",
      "1/1 [==============================] - 0s 11ms/step\n",
      "1/1 [==============================] - 0s 11ms/step\n",
      "Generated Bar:  9\n",
      "Seed Sentence:  ['Devil', 'you', 'know', 'might', 'be', 'the', 'last', 'rainbow']\n",
      "1/1 [==============================] - 0s 11ms/step\n",
      "1/1 [==============================] - 0s 11ms/step\n",
      "1/1 [==============================] - 0s 12ms/step\n",
      "1/1 [==============================] - 0s 11ms/step\n",
      "Seed Sentence:  ['This', 'song', 'we', 'sing', 'to', 'silence', 'the', 'demons,', 'no', 'way', 'to', 'be.']\n",
      "1/1 [==============================] - 0s 10ms/step\n",
      "1/1 [==============================] - 0s 11ms/step\n",
      "1/1 [==============================] - 0s 11ms/step\n",
      "1/1 [==============================] - 0s 10ms/step\n",
      "1/1 [==============================] - 0s 11ms/step\n",
      "Seed Sentence:  ['Progression', 'towards', 'the', '(new)', 'dawn', 'of', 'man', 'we', 'continually', 'try', 'to', 'wash', 'the', 'blood', 'from', 'your', 'neck']\n",
      "1/1 [==============================] - 0s 10ms/step\n",
      "1/1 [==============================] - 0s 11ms/step\n",
      "1/1 [==============================] - 0s 11ms/step\n",
      "1/1 [==============================] - 0s 10ms/step\n",
      "1/1 [==============================] - 0s 11ms/step\n",
      "Seed Sentence:  ['Radiation', 'will', 'end', 'this', 'war']\n",
      "1/1 [==============================] - 0s 11ms/step\n",
      "1/1 [==============================] - 0s 10ms/step\n",
      "1/1 [==============================] - 0s 11ms/step\n",
      "1/1 [==============================] - 0s 11ms/step\n",
      "1/1 [==============================] - 0s 11ms/step\n",
      "Seed Sentence:  ['Get', 'down', 'on', 'your', 'knees!']\n",
      "1/1 [==============================] - 0s 11ms/step\n",
      "1/1 [==============================] - 0s 10ms/step\n",
      "1/1 [==============================] - 0s 11ms/step\n",
      "1/1 [==============================] - 0s 12ms/step\n",
      "Generated Bar:  10\n",
      "Seed Sentence:  ['Pull', 'me', 'under', 'your', 'sway']\n",
      "1/1 [==============================] - 0s 10ms/step\n",
      "1/1 [==============================] - 0s 10ms/step\n",
      "1/1 [==============================] - 0s 11ms/step\n",
      "1/1 [==============================] - 0s 12ms/step\n",
      "Seed Sentence:  ['As', 'the', 'rain', 'intensifies', 'they', 'come', 'upon', 'a', 'pair', 'of', 'balls']\n",
      "1/1 [==============================] - 0s 10ms/step\n",
      "1/1 [==============================] - 0s 11ms/step\n",
      "1/1 [==============================] - 0s 11ms/step\n",
      "1/1 [==============================] - 0s 11ms/step\n",
      "1/1 [==============================] - 0s 11ms/step\n",
      "Seed Sentence:  ['From', 'the', 'outsiders,', 'trying', 'to', 'get', 'in', 'or', 'get', 'outThink', 'that', \"you'll\", 'pull', 'through']\n",
      "1/1 [==============================] - 0s 10ms/step\n",
      "1/1 [==============================] - 0s 11ms/step\n",
      "1/1 [==============================] - 0s 11ms/step\n",
      "1/1 [==============================] - 0s 11ms/step\n",
      "1/1 [==============================] - 0s 11ms/step\n",
      "Seed Sentence:  ['To', 'dismiss', 'an', 'ancient', 'fable', 'that', 'we', 'all', 'held', 'their', 'feet', 'to', 'the', 'flame']\n",
      "1/1 [==============================] - 0s 10ms/step\n",
      "1/1 [==============================] - 0s 10ms/step\n",
      "1/1 [==============================] - 0s 11ms/step\n",
      "1/1 [==============================] - 0s 11ms/step\n",
      "Seed Sentence:  ['Born', 'to', 'service,', 'to', 'serve', 'them', 'on', 'your', 'knees', 'and', 'pray']\n",
      "1/1 [==============================] - 0s 10ms/step\n",
      "1/1 [==============================] - 0s 10ms/step\n",
      "1/1 [==============================] - 0s 11ms/step\n",
      "1/1 [==============================] - 0s 12ms/step\n",
      "Generated Bar:  11\n",
      "Seed Sentence:  [\"we're\", 'gonna', 'drink', 'all', 'of', 'your', 'misfortunes', 'done']\n",
      "1/1 [==============================] - 0s 10ms/step\n",
      "1/1 [==============================] - 0s 11ms/step\n",
      "1/1 [==============================] - 0s 11ms/step\n",
      "1/1 [==============================] - 0s 11ms/step\n",
      "Seed Sentence:  ['And', 'the', 'time', \"I've\", 'spent']\n",
      "1/1 [==============================] - 0s 10ms/step\n",
      "1/1 [==============================] - 0s 10ms/step\n",
      "1/1 [==============================] - 0s 11ms/step\n",
      "1/1 [==============================] - 0s 11ms/step\n",
      "Seed Sentence:  [\"Don't\", 'you', 'know', \"you'll\", 'be', 'in', 'for', 'quite', 'a', 'while']\n",
      "1/1 [==============================] - 0s 10ms/step\n",
      "1/1 [==============================] - 0s 11ms/step\n",
      "1/1 [==============================] - 0s 11ms/step\n",
      "1/1 [==============================] - 0s 11ms/step\n",
      "1/1 [==============================] - 0s 12ms/step\n",
      "Seed Sentence:  ['until', 'the', 'end', 'is', 'near']\n",
      "1/1 [==============================] - 0s 10ms/step\n",
      "1/1 [==============================] - 0s 11ms/step\n",
      "1/1 [==============================] - 0s 11ms/step\n",
      "1/1 [==============================] - 0s 12ms/step\n",
      "1/1 [==============================] - 0s 11ms/step\n",
      "Seed Sentence:  ['contains', 'symbolism', 'for', 'society’s', 'need', 'to', 'leave', 'this', 'wicked', 'world']\n",
      "1/1 [==============================] - 0s 10ms/step\n",
      "1/1 [==============================] - 0s 11ms/step\n",
      "1/1 [==============================] - 0s 11ms/step\n",
      "1/1 [==============================] - 0s 11ms/step\n",
      "1/1 [==============================] - 0s 10ms/step\n",
      "Generated Bar:  12\n",
      "Seed Sentence:  ['And', 'I', 'fell', 'back', 'into', 'the', 'tempest', 'and', 'the', 'Night’s', 'Plutonian', 'shore!”']\n",
      "1/1 [==============================] - 0s 11ms/step\n",
      "1/1 [==============================] - 0s 11ms/step\n",
      "1/1 [==============================] - 0s 11ms/step\n",
      "1/1 [==============================] - 0s 11ms/step\n",
      "1/1 [==============================] - 0s 11ms/step\n",
      "Seed Sentence:  ['Time', 'after', 'time', 'you', 'said', 'you', 'loved', 'me']\n",
      "1/1 [==============================] - 0s 11ms/step\n",
      "1/1 [==============================] - 0s 11ms/step\n",
      "1/1 [==============================] - 0s 11ms/step\n",
      "1/1 [==============================] - 0s 16ms/step\n",
      "Seed Sentence:  ['How,', 'could', 'you,', 'expect', 'me', 'to,', 'believe', 'that', 'there', 'was', 'no', 'liePerpetual', 'gloom', 'of', 'the', 'hollow', 'night']\n",
      "1/1 [==============================] - 0s 11ms/step\n",
      "1/1 [==============================] - 0s 11ms/step\n",
      "1/1 [==============================] - 0s 12ms/step\n",
      "1/1 [==============================] - 0s 11ms/step\n",
      "Seed Sentence:  ['And', 'then', 'you', 'ran', 'away', 'from', 'home.']\n",
      "1/1 [==============================] - 0s 10ms/step\n",
      "1/1 [==============================] - 0s 11ms/step\n",
      "1/1 [==============================] - 0s 11ms/step\n",
      "1/1 [==============================] - 0s 11ms/step\n",
      "Seed Sentence:  ['Changing', 'deep', 'in', 'me', 'what', 'I', 'have', 'seen', 'the', 'truth']\n",
      "1/1 [==============================] - 0s 11ms/step\n",
      "1/1 [==============================] - 0s 10ms/step\n",
      "1/1 [==============================] - 0s 11ms/step\n",
      "1/1 [==============================] - 0s 11ms/step\n",
      "Generated Bar:  13\n",
      "Seed Sentence:  ['Cry,', 'look', 'to', 'the', 'sky!']\n",
      "1/1 [==============================] - 0s 11ms/step\n",
      "1/1 [==============================] - 0s 10ms/step\n",
      "1/1 [==============================] - 0s 12ms/step\n",
      "1/1 [==============================] - 0s 12ms/step\n",
      "1/1 [==============================] - 0s 12ms/step\n",
      "Seed Sentence:  ['Television', 'is', 'our', 'only', 'master']\n",
      "1/1 [==============================] - 0s 11ms/step\n",
      "1/1 [==============================] - 0s 11ms/step\n",
      "1/1 [==============================] - 0s 12ms/step\n",
      "1/1 [==============================] - 0s 11ms/step\n",
      "1/1 [==============================] - 0s 11ms/step\n",
      "Seed Sentence:  ['He', 'lives', 'by', 'the', 'black', 'flame!Your', 'touch', 'magnetizing']\n",
      "1/1 [==============================] - 0s 10ms/step\n",
      "1/1 [==============================] - 0s 12ms/step\n",
      "1/1 [==============================] - 0s 11ms/step\n",
      "1/1 [==============================] - 0s 13ms/step\n",
      "Seed Sentence:  ['Behold,', 'the', 'hounds', 'of', 'war']\n",
      "1/1 [==============================] - 0s 11ms/step\n",
      "1/1 [==============================] - 0s 12ms/step\n",
      "1/1 [==============================] - 0s 11ms/step\n",
      "1/1 [==============================] - 0s 12ms/step\n",
      "1/1 [==============================] - 0s 11ms/step\n",
      "Seed Sentence:  ['Saying', 'everything', 'I', 'want', 'to', 'see', 'this', 'night']\n",
      "1/1 [==============================] - 0s 10ms/step\n",
      "1/1 [==============================] - 0s 14ms/step\n",
      "1/1 [==============================] - 0s 13ms/step\n",
      "1/1 [==============================] - 0s 11ms/step\n",
      "Generated Bar:  14\n",
      "Seed Sentence:  ['So', 'I', 'can', 'hold', 'you', 'in', 'my', 'thoughts', 'and', 'drown', 'me', 'in', 'my', 'years']\n",
      "1/1 [==============================] - 0s 10ms/step\n",
      "1/1 [==============================] - 0s 11ms/step\n",
      "1/1 [==============================] - 0s 12ms/step\n",
      "1/1 [==============================] - 0s 14ms/step\n",
      "1/1 [==============================] - 0s 15ms/step\n",
      "Seed Sentence:  ['Know', 'this,', 'you', 'are', 'our', 'brothers', 'now,', 'this', 'is', 'the', 'endThe', 'Fate', 'of', '5', 'sealed']\n",
      "1/1 [==============================] - 0s 10ms/step\n",
      "1/1 [==============================] - 0s 11ms/step\n",
      "1/1 [==============================] - 0s 12ms/step\n",
      "1/1 [==============================] - 0s 12ms/step\n",
      "Seed Sentence:  ['You', 'blasphemer', 'of', 'all', 'that', 'is', 'daemus', 'blacl.']\n",
      "1/1 [==============================] - 0s 11ms/step\n",
      "1/1 [==============================] - 0s 11ms/step\n",
      "1/1 [==============================] - 0s 13ms/step\n",
      "1/1 [==============================] - 0s 12ms/step\n",
      "Seed Sentence:  ['If', 'I', \"can't\", 'live', 'in', 'the', 'past', 'and', 'what', 'you', 'have']\n",
      "1/1 [==============================] - 0s 11ms/step\n",
      "1/1 [==============================] - 0s 11ms/step\n",
      "1/1 [==============================] - 0s 11ms/step\n",
      "1/1 [==============================] - 0s 11ms/step\n",
      "Seed Sentence:  ['It', 'is', 'your', 'last', 'breath', 'I', 'heard', 'your', 'last', 'breath']\n",
      "1/1 [==============================] - 0s 10ms/step\n",
      "1/1 [==============================] - 0s 10ms/step\n",
      "1/1 [==============================] - 0s 13ms/step\n",
      "1/1 [==============================] - 0s 12ms/step\n",
      "Generated Bar:  15\n",
      "Seed Sentence:  ['No', 'matter', 'who', 'you', 'are,', 'light', 'nor', 'dark,', 'you', 'will', 'be', 'nothing', 'more', 'than', 'trash', 'and', 'waste']\n",
      "1/1 [==============================] - 0s 10ms/step\n",
      "1/1 [==============================] - 0s 11ms/step\n",
      "1/1 [==============================] - 0s 11ms/step\n",
      "1/1 [==============================] - 0s 12ms/step\n",
      "Seed Sentence:  ['Seeds', 'in', 'hand', 'I', 'made', 'the', 'devil', 'sell', 'his', 'soul']\n",
      "1/1 [==============================] - 0s 10ms/step\n",
      "1/1 [==============================] - 0s 11ms/step\n",
      "1/1 [==============================] - 0s 11ms/step\n",
      "1/1 [==============================] - 0s 12ms/step\n",
      "1/1 [==============================] - 0s 11ms/step\n",
      "Seed Sentence:  ['For', 'her', 'life,', 'thousands', 'will', 'die', 'and', 'that’s', 'the', 'way', 'that', 'leads', 'on', 'high,']\n",
      "1/1 [==============================] - 0s 11ms/step\n",
      "1/1 [==============================] - 0s 10ms/step\n",
      "1/1 [==============================] - 0s 12ms/step\n",
      "1/1 [==============================] - 0s 11ms/step\n",
      "Seed Sentence:  ['Call', 'it', 'in', 'the', 'flesh']\n",
      "1/1 [==============================] - 0s 11ms/step\n",
      "1/1 [==============================] - 0s 11ms/step\n",
      "1/1 [==============================] - 0s 11ms/step\n",
      "1/1 [==============================] - 0s 11ms/step\n",
      "Seed Sentence:  ['I', 'put', 'my', 'trust', 'in', 'God', 'and', 'in', 'my', 'searching', 'found', 'no', 'soul']\n",
      "1/1 [==============================] - 0s 10ms/step\n",
      "1/1 [==============================] - 0s 11ms/step\n",
      "1/1 [==============================] - 0s 11ms/step\n",
      "1/1 [==============================] - 0s 11ms/step\n",
      "1/1 [==============================] - 0s 12ms/step\n",
      "Generated Bar:  16\n",
      "Seed Sentence:  ['Poured', 'from', 'within', 'the', 'planetary', 'core', 'gluttony', ',greed', 'fortune', 'and', 'fame', 'and', 'lead', 'me', 'unto']\n",
      "1/1 [==============================] - 0s 10ms/step\n",
      "1/1 [==============================] - 0s 11ms/step\n",
      "1/1 [==============================] - 0s 12ms/step\n",
      "1/1 [==============================] - 0s 11ms/step\n",
      "Seed Sentence:  ['Saying', '\"I', \"don't\", 'like', 'your', 'looks', 'I', 'think', \"you're\", 'gonna', 'feel', 'you', 'belong!']\n",
      "1/1 [==============================] - 0s 11ms/step\n",
      "1/1 [==============================] - 0s 11ms/step\n",
      "1/1 [==============================] - 0s 11ms/step\n",
      "1/1 [==============================] - 0s 12ms/step\n",
      "1/1 [==============================] - 0s 11ms/step\n",
      "Seed Sentence:  ['Tearing', 'at', 'the', 'walls', 'of', 'our', 'tragedy']\n",
      "1/1 [==============================] - 0s 10ms/step\n",
      "1/1 [==============================] - 0s 11ms/step\n",
      "1/1 [==============================] - 0s 12ms/step\n",
      "1/1 [==============================] - 0s 11ms/step\n",
      "Seed Sentence:  ['And', 'from', 'the', 'shadows', 'of', 'moments', 'within']\n",
      "1/1 [==============================] - 0s 10ms/step\n",
      "1/1 [==============================] - 0s 11ms/step\n",
      "1/1 [==============================] - 0s 12ms/step\n",
      "1/1 [==============================] - 0s 11ms/step\n",
      "Seed Sentence:  ['just', 'call', 'me', 'a', 'fake']\n",
      "1/1 [==============================] - 0s 10ms/step\n",
      "1/1 [==============================] - 0s 10ms/step\n",
      "1/1 [==============================] - 0s 11ms/step\n",
      "1/1 [==============================] - 0s 11ms/step\n",
      "Generated Bar:  17\n",
      "Seed Sentence:  ['this', 'is', 'not', 'my', 'home']\n",
      "1/1 [==============================] - 0s 10ms/step\n",
      "1/1 [==============================] - 0s 10ms/step\n",
      "1/1 [==============================] - 0s 11ms/step\n",
      "1/1 [==============================] - 0s 12ms/step\n",
      "Seed Sentence:  ['Will', 'bring', 'you', 'to', 'form']\n",
      "1/1 [==============================] - 0s 10ms/step\n",
      "1/1 [==============================] - 0s 10ms/step\n",
      "1/1 [==============================] - 0s 12ms/step\n",
      "1/1 [==============================] - 0s 11ms/step\n",
      "Seed Sentence:  ['Slaughter', 'paved', 'the', 'path', 'to', 'world', 'destruction']\n",
      "1/1 [==============================] - 0s 10ms/step\n",
      "1/1 [==============================] - 0s 10ms/step\n",
      "1/1 [==============================] - 0s 11ms/step\n",
      "1/1 [==============================] - 0s 11ms/step\n",
      "Seed Sentence:  ['When', 'the', 'lambs', 'have', 'all', 'gone', 'too', 'soon']\n",
      "1/1 [==============================] - 0s 10ms/step\n",
      "1/1 [==============================] - 0s 10ms/step\n",
      "1/1 [==============================] - 0s 11ms/step\n",
      "1/1 [==============================] - 0s 11ms/step\n",
      "Seed Sentence:  ['Rake', 'your', 'hand', 'across', 'your', 'face', 'and', 'start', 'to', 'bruise.']\n",
      "1/1 [==============================] - 0s 10ms/step\n",
      "1/1 [==============================] - 0s 10ms/step\n",
      "1/1 [==============================] - 0s 12ms/step\n",
      "1/1 [==============================] - 0s 11ms/step\n",
      "Generated Bar:  18\n",
      "Seed Sentence:  ['Swirls', 'of', 'souls,', 'float', 'to', 'the', 'top', 'of', 'the', 'hill']\n",
      "1/1 [==============================] - 0s 11ms/step\n",
      "1/1 [==============================] - 0s 11ms/step\n",
      "1/1 [==============================] - 0s 11ms/step\n",
      "1/1 [==============================] - 0s 12ms/step\n",
      "1/1 [==============================] - 0s 11ms/step\n",
      "Seed Sentence:  ['From', 'the', 'depths', 'of', 'solitude']\n",
      "1/1 [==============================] - 0s 10ms/step\n",
      "1/1 [==============================] - 0s 10ms/step\n",
      "1/1 [==============================] - 0s 11ms/step\n",
      "1/1 [==============================] - 0s 11ms/step\n",
      "Seed Sentence:  ['Ahhhh...', 'You', 'know', 'I', 'let', 'you', 'temp', 'me', 'with', 'the', 'christened', 'knife']\n",
      "1/1 [==============================] - 0s 10ms/step\n",
      "1/1 [==============================] - 0s 12ms/step\n",
      "1/1 [==============================] - 0s 12ms/step\n",
      "1/1 [==============================] - 0s 11ms/step\n",
      "1/1 [==============================] - 0s 11ms/step\n",
      "Seed Sentence:  ['And', 'I', 'stand', 'in', 'waste']\n",
      "1/1 [==============================] - 0s 10ms/step\n",
      "1/1 [==============================] - 0s 11ms/step\n",
      "1/1 [==============================] - 0s 12ms/step\n",
      "1/1 [==============================] - 0s 11ms/step\n",
      "Seed Sentence:  ['How', 'can', 'I', 'convince', 'you?']\n",
      "1/1 [==============================] - 0s 10ms/step\n",
      "1/1 [==============================] - 0s 11ms/step\n",
      "1/1 [==============================] - 0s 11ms/step\n",
      "1/1 [==============================] - 0s 11ms/step\n",
      "1/1 [==============================] - 0s 12ms/step\n",
      "Generated Bar:  19\n",
      "Seed Sentence:  ['Now', 'you', 'have', 'passed', 'away,', 'and', 'I', 'am', 'coming', 'for', 'you']\n",
      "1/1 [==============================] - 0s 10ms/step\n",
      "1/1 [==============================] - 0s 10ms/step\n",
      "1/1 [==============================] - 0s 12ms/step\n",
      "1/1 [==============================] - 0s 12ms/step\n",
      "1/1 [==============================] - 0s 11ms/step\n",
      "Seed Sentence:  ['Siding', 'in', 'communion', 'with', 'god.']\n",
      "1/1 [==============================] - 0s 10ms/step\n",
      "1/1 [==============================] - 0s 11ms/step\n",
      "1/1 [==============================] - 0s 11ms/step\n",
      "1/1 [==============================] - 0s 11ms/step\n",
      "Seed Sentence:  [\"I'm\", 'a', 'shockwave', 'and', 'I', \"don't\", 'need', 'alibis', 'from', 'no', 'one']\n",
      "1/1 [==============================] - 0s 11ms/step\n",
      "1/1 [==============================] - 0s 10ms/step\n",
      "1/1 [==============================] - 0s 12ms/step\n",
      "1/1 [==============================] - 0s 12ms/step\n",
      "1/1 [==============================] - 0s 13ms/step\n",
      "Seed Sentence:  ['My', 'only', 'friend,', 'my', 'only', 'friend', 'You', 'went', 'against', 'his', 'wish']\n",
      "1/1 [==============================] - 0s 10ms/step\n",
      "1/1 [==============================] - 0s 10ms/step\n",
      "1/1 [==============================] - 0s 12ms/step\n",
      "1/1 [==============================] - 0s 15ms/step\n",
      "Generated Bar:  20\n",
      "Generated song with avg rhyme density:  0.5167785234899329 and avg readability of:  3.4549999999999996\n",
      "Song Generated with SimpleRNN:\n",
      "You wannabe death shown man born\n",
      "No foundation dreams tonight praise you\n",
      "Kick knows me around no\n",
      "Is this reality place her way\n",
      "Drift astray you drown me by\n",
      "Hollow inside you bleed you bleed\n",
      "These are gone astray shame sting\n",
      "Seems to shine tonight away lives\n",
      "I brew nothing left me free\n",
      "Get high up away high\n",
      "Born annoying death righteousness demise\n",
      "contains time comes now awaits me\n",
      "Changing lives on away forever\n",
      "Saying praying sin desperation life\n",
      "It breeds fall down undone\n",
      "I brew nothing left me free\n",
      "just thongs rock rock tonight\n",
      "Rake break oblivion the ground\n",
      "How strange fears out tonight you\n",
      "My sledge unbroken follow of\n",
      "\n"
     ]
    }
   ],
   "source": [
    "print('test')\n",
    "rnn = generate_song( rnn_model, lyrics, length_of_bar =10 , tries=25)\n",
    "\n",
    "print(\"Song Generated with SimpleRNN:\")\n",
    "for line in rnn:\n",
    "  print(line)\n",
    "print()"
   ]
  }
 ],
 "metadata": {
  "kernelspec": {
   "display_name": "Python 3.11.4 ('RE')",
   "language": "python",
   "name": "python3"
  },
  "language_info": {
   "codemirror_mode": {
    "name": "ipython",
    "version": 3
   },
   "file_extension": ".py",
   "mimetype": "text/x-python",
   "name": "python",
   "nbconvert_exporter": "python",
   "pygments_lexer": "ipython3",
   "version": "3.11.4"
  },
  "orig_nbformat": 4,
  "vscode": {
   "interpreter": {
    "hash": "36173ce3d0ba65c4d5858397b29ed022201e85e6fa210e17017ccab12f085240"
   }
  }
 },
 "nbformat": 4,
 "nbformat_minor": 2
}
