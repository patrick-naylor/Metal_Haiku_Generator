{
 "cells": [
  {
   "cell_type": "markdown",
   "metadata": {},
   "source": [
    "### Scraping lyric data from metal-archives.com"
   ]
  },
  {
   "cell_type": "code",
   "execution_count": null,
   "metadata": {},
   "outputs": [],
   "source": [
    "import requests\n",
    "import lxml.html as lh\n",
    "import numpy as np\n",
    "from bs4 import BeautifulSoup\n",
    "import pandas as pd"
   ]
  },
  {
   "cell_type": "code",
   "execution_count": 68,
   "metadata": {},
   "outputs": [],
   "source": [
    "def bands_on_page(url):\n",
    "    headers = { 'User-Agent': 'Mozilla/5.0'\n",
    "    }\n",
    "    response = requests.get(url, headers=headers)\n",
    "    bs = BeautifulSoup(response.text,'lxml')\n",
    "    band_links = []\n",
    "    for link in bs.find_all('a'):\n",
    "        band_url = str(link).split('\\\"')[1]\n",
    "        band_id = band_url.split('/')[-1][:-1]\n",
    "        band_disco = f'https://www.metal-archives.com/band/discography/id/{band_id}/tab/all'\n",
    "        band_links.append(band_disco)\n",
    "    return band_links\n",
    "\n",
    "band_links = []\n",
    "for i in range(0, 37800, 200):\n",
    "    URL = f'https://www.metal-archives.com/search/ajax-advanced/searching/bands/?bandName=&genre=&country=US&yearCreationFrom=&yearCreationTo=&bandNotes=&status=&themes=&location=&bandLabelName=&sEcho=4&iColumns=3&sColumns=&iDisplayStart={i}&iDisplayLength=37800&mDataProp_0=0&mDataProp_1=1&mDataProp_2=2&_=1692040038976'\n",
    "    band_links = np.concatenate((band_links, bands_on_page(URL)))"
   ]
  },
  {
   "cell_type": "code",
   "execution_count": 94,
   "metadata": {},
   "outputs": [
    {
     "name": "stdout",
     "output_type": "stream",
     "text": [
      "<a class=\"single\" href=\"https://www.metal-archives.com/albums/Aeronwen/Death%27s_Bride/1106263\">Death's Bride</a>\n"
     ]
    }
   ],
   "source": [
    "def get_albums(url):\n",
    "    response = requests.get(url)\n",
    "    bs = BeautifulSoup(response.text, 'lxml')\n",
    "#print(bs)\n",
    "    print(bs.find_all('a')[0])\n",
    "    album_links = []\n",
    "    for a in bs.find_all('a', {'class': ['albumn', 'single']}):\n",
    "        link = str(a).split('\\\"')[3]\n",
    "        album_links.append(link)\n",
    "    return(album_links)"
   ]
  },
  {
   "cell_type": "code",
   "execution_count": 95,
   "metadata": {},
   "outputs": [
    {
     "name": "stdout",
     "output_type": "stream",
     "text": [
      "['https://www.metal-archives.com/albums/Aeronwen/Death%27s_Bride/1106263', 'https://www.metal-archives.com/albums/Aeronwen/Conjure/1106262', 'https://www.metal-archives.com/albums/Aeronwen/Kingslayers/1106260', 'https://www.metal-archives.com/albums/Aeronwen/Demons_in_Paradise/1106259', 'https://www.metal-archives.com/albums/Aeronwen/Age_of_Ruin/1106258']\n"
     ]
    }
   ],
   "source": [
    "print(album_links)\n"
   ]
  },
  {
   "cell_type": "code",
   "execution_count": null,
   "metadata": {},
   "outputs": [],
   "source": []
  },
  {
   "cell_type": "code",
   "execution_count": null,
   "metadata": {},
   "outputs": [],
   "source": []
  }
 ],
 "metadata": {
  "kernelspec": {
   "display_name": "Python 3.11.4 ('metal')",
   "language": "python",
   "name": "python3"
  },
  "language_info": {
   "codemirror_mode": {
    "name": "ipython",
    "version": 3
   },
   "file_extension": ".py",
   "mimetype": "text/x-python",
   "name": "python",
   "nbconvert_exporter": "python",
   "pygments_lexer": "ipython3",
   "version": "3.11.4"
  },
  "orig_nbformat": 4,
  "vscode": {
   "interpreter": {
    "hash": "910fcaffaf40d22dcdc8d59820c392c4fe82e19b7de84aa8089759bbd26ea45c"
   }
  }
 },
 "nbformat": 4,
 "nbformat_minor": 2
}
