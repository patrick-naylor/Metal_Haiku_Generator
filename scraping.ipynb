{
 "cells": [
  {
   "cell_type": "markdown",
   "metadata": {},
   "source": [
    "### Scraping lyric data from metal-archives.com"
   ]
  },
  {
   "cell_type": "code",
   "execution_count": null,
   "metadata": {},
   "outputs": [],
   "source": [
    "import requests\n",
    "import lxml.html as lh\n",
    "import numpy as np\n",
    "from bs4 import BeautifulSoup\n",
    "import pandas as pd"
   ]
  },
  {
   "cell_type": "code",
   "execution_count": 68,
   "metadata": {},
   "outputs": [],
   "source": [
    "def bands_on_page(url):\n",
    "    headers = { 'User-Agent': 'Mozilla/5.0'\n",
    "    }\n",
    "    response = requests.get(url, headers=headers)\n",
    "    bs = BeautifulSoup(response.text,'lxml')\n",
    "    band_links = []\n",
    "    for link in bs.find_all('a'):\n",
    "        band_url = str(link).split('\\\"')[1]\n",
    "        band_id = band_url.split('/')[-1][:-1]\n",
    "        band_disco = f'https://www.metal-archives.com/band/discography/id/{band_id}/tab/all'\n",
    "        band_links.append(band_disco)\n",
    "    return band_links\n",
    "\n",
    "band_links = []\n",
    "for i in range(0, 37800, 200):\n",
    "    URL = f'https://www.metal-archives.com/search/ajax-advanced/searching/bands/?bandName=&genre=&country=US&yearCreationFrom=&yearCreationTo=&bandNotes=&status=&themes=&location=&bandLabelName=&sEcho=4&iColumns=3&sColumns=&iDisplayStart={i}&iDisplayLength=37800&mDataProp_0=0&mDataProp_1=1&mDataProp_2=2&_=1692040038976'\n",
    "    band_links = np.concatenate((band_links, bands_on_page(URL)))"
   ]
  },
  {
   "cell_type": "code",
   "execution_count": 98,
   "metadata": {},
   "outputs": [],
   "source": [
    "def get_albums(url):\n",
    "    response = requests.get(url)\n",
    "    bs = BeautifulSoup(response.text, 'lxml')\n",
    "#print(bs)\n",
    "    print(bs.find_all('a')[0])\n",
    "    album_links = []\n",
    "    for a in bs.find_all('a', {'class': ['albumn', 'single']}):\n",
    "        link = str(a).split('\\\"')[3]\n",
    "        album_links.append(link)\n",
    "    return(album_links)\n"
   ]
  },
  {
   "cell_type": "code",
   "execution_count": 110,
   "metadata": {},
   "outputs": [],
   "source": [
    "response = requests.get('https://www.metal-archives.com/albums/Aeronwen/Aeronwen/1106257')\n",
    "bs = BeautifulSoup(response.text, 'lxml')\n",
    "id_strings = bs.find_all('a', class_='anchor')\n",
    "ids = []\n",
    "for id in id_strings:\n",
    "    ids.append(str(id).split('\\\"')[3])\n",
    "lyrics = []\n",
    "for id in ids:\n",
    "    response = requests.get(f'https://www.metal-archives.com/release/ajax-view-lyrics/id/{id}')\n",
    "    bs = BeautifulSoup(response.text, 'lxml')\n",
    "    lyrics.append(bs)\n",
    "\n"
   ]
  },
  {
   "cell_type": "code",
   "execution_count": 118,
   "metadata": {},
   "outputs": [
    {
     "name": "stdout",
     "output_type": "stream",
     "text": [
      "<html><body><p>Death’s Bride<br/>\n",
      "<br/>\n",
      "<br/>\n",
      "Awaken now from winter’s sleep<br/>\n",
      "<br/>\n",
      "Shake the hoar frost from the deep<br/>\n",
      "<br/>\n",
      "Forsaken now, left to bleed<br/>\n",
      "<br/>\n",
      "Death arose to marry me<br/>\n",
      "<br/>\n",
      "Torn from my tomb, darkness to doom<br/>\n",
      "<br/>\n",
      "Conjured by fire, I’m burning desire<br/>\n",
      "<br/>\n",
      "The wedding march plays, stars flicker and fade<br/>\n",
      "<br/>\n",
      "Screaming inside, I am Death’s bride<br/>\n",
      "<br/>\n",
      "Fallen souls storm Death’s door<br/>\n",
      "<br/>\n",
      "Besieged and broken, lose the war<br/>\n",
      "<br/>\n",
      "Bound in chains, close the gate<br/>\n",
      "<br/>\n",
      "False moon rises, no escape<br/>\n",
      "<br/>\n",
      "Torn from my tomb, darkness to doom<br/>\n",
      "<br/>\n",
      "Conjured by fire, I’m burning desire<br/>\n",
      "<br/>\n",
      "The wedding march plays, stars flicker and fade<br/>\n",
      "<br/>\n",
      "Screaming inside, I am Death’s bride<br/>\n",
      "<br/>\n",
      "The curse is upon me<br/>\n",
      "<br/>\n",
      "The moon stares back blankly<br/>\n",
      "<br/>\n",
      "No one to free me this day<br/>\n",
      "<br/>\n",
      "I am taken away<br/>\n",
      "<br/>\n",
      "I’m taken away<br/>\n",
      "<br/>\n",
      "<br/>\n",
      "Torn from my tomb, darkness to doom<br/>\n",
      "<br/>\n",
      "Consumed by the fire, no trace of desire<br/>\n",
      "<br/>\n",
      "The wedding now done, my bondage begun<br/>\n",
      "<br/>\n",
      "Rotting inside, I am Death’s bride<br/>\n",
      "<br/>\n",
      "<br/>\n",
      "Deep in that fertile ground<br/>\n",
      "<br/>\n",
      "Serpent of Death unwound<br/>\n",
      "<br/>\n",
      "Ashes to ashes, dust to dust<br/>\n",
      "<br/>\n",
      "Unto me your soul entrust<br/>\n",
      "<br/>\n",
      "<br/>\n",
      "No one to free me this day<br/>\n",
      "<br/>\n",
      "Bound in your shroud<br/>\n",
      "<br/>\n",
      "Torn from your tomb<br/>\n",
      "<br/>\n",
      "I’m taken away<br/>\n",
      "<br/>\n",
      "You are my darkness, I am your doom<br/>\n",
      "<br/>\n",
      "<br/>\n",
      "Deep in that fertile ground<br/>\n",
      "<br/>\n",
      "Serpent of Death unwound<br/>\n",
      "<br/>\n",
      "Bound in his crown of thorn<br/>\n",
      "<br/>\n",
      "In ghostlight and flame reborn<br/>\n",
      "<br/>\n",
      "I am your darkness, I am your doom<br/>\n",
      "<br/>\n",
      "I am your darkness, I am your doom<br/>\n",
      "<br/>\n",
      "Torn from my tomb, darkness to doom<br/>\n",
      "<br/>\n",
      "Consumed by the fire, no trace of desire<br/>\n",
      "<br/>\n",
      "The wedding now done, my bondage begun<br/>\n",
      "<br/>\n",
      "Rotting inside, I am Death’s bride<br/>\n",
      "<br/>\n",
      "I am Death’s bride…..\n",
      "</p></body></html>\n"
     ]
    }
   ],
   "source": [
    "print(lyrics[0])"
   ]
  },
  {
   "cell_type": "code",
   "execution_count": null,
   "metadata": {},
   "outputs": [],
   "source": []
  }
 ],
 "metadata": {
  "kernelspec": {
   "display_name": "Python 3.11.4 ('metal')",
   "language": "python",
   "name": "python3"
  },
  "language_info": {
   "codemirror_mode": {
    "name": "ipython",
    "version": 3
   },
   "file_extension": ".py",
   "mimetype": "text/x-python",
   "name": "python",
   "nbconvert_exporter": "python",
   "pygments_lexer": "ipython3",
   "version": "3.11.4"
  },
  "orig_nbformat": 4,
  "vscode": {
   "interpreter": {
    "hash": "910fcaffaf40d22dcdc8d59820c392c4fe82e19b7de84aa8089759bbd26ea45c"
   }
  }
 },
 "nbformat": 4,
 "nbformat_minor": 2
}
